{
  "cells": [
    {
      "cell_type": "markdown",
      "metadata": {
        "id": "view-in-github",
        "colab_type": "text"
      },
      "source": [
        "<a href=\"https://colab.research.google.com/github/PaolaMaribel18/RI_2024a/blob/main/week4/taller02.ipynb\" target=\"_parent\"><img src=\"https://colab.research.google.com/assets/colab-badge.svg\" alt=\"Open In Colab\"/></a>"
      ]
    },
    {
      "cell_type": "markdown",
      "source": [
        "# Taller 02: Modelo de Espacio Vectorial\n",
        "\n",
        "## Objetivo\n",
        " Comprender y aplicar el Modelo de Espacio Vectorial para el ranking de documentos\n",
        " basado en la similitud de contenido con una consulta dada."
      ],
      "metadata": {
        "collapsed": false,
        "id": "79a53fcc41f692bf"
      },
      "id": "79a53fcc41f692bf"
    },
    {
      "cell_type": "code",
      "source": [
        "from google.colab import drive\n",
        "drive.mount('/content/drive')"
      ],
      "metadata": {
        "colab": {
          "base_uri": "https://localhost:8080/"
        },
        "id": "ykkN72UaD-EO",
        "outputId": "b1933d37-5d83-42ad-88a6-2ab84331722f"
      },
      "id": "ykkN72UaD-EO",
      "execution_count": 1,
      "outputs": [
        {
          "output_type": "stream",
          "name": "stdout",
          "text": [
            "Mounted at /content/drive\n"
          ]
        }
      ]
    },
    {
      "cell_type": "markdown",
      "source": [
        "### Step 1: Data Preprocessing\n",
        "\n",
        "Ensure that the documents are still loaded and preprocessed from the previous task. The data should be clean and ready for advanced querying.\n",
        "Write a function to load and preprocess the text documents from a specified directory. This step involves reading each file, converting the text to lowercase for uniform processing, and storing the results in a dictionary."
      ],
      "metadata": {
        "collapsed": false,
        "id": "c965f8d120975418"
      },
      "id": "c965f8d120975418"
    },
    {
      "cell_type": "markdown",
      "source": [],
      "metadata": {
        "id": "AWT7IrzrERN5"
      },
      "id": "AWT7IrzrERN5"
    },
    {
      "cell_type": "code",
      "source": [
        "import os\n",
        "import numpy as np\n",
        "import re\n",
        "\n",
        "# Define the path to the directory containing the text files\n",
        "CORPUS_DIR = '/content/drive/MyDrive/ri_2024a/week4/data'\n",
        "\n",
        "# Diccionario para almacenar los textos de los documentos\n",
        "documents_text = {}\n",
        "\n",
        "dictionary = {}\n",
        "\n",
        "# Recorre los documentos y almacena sus textos\n",
        "for filename in os.listdir(CORPUS_DIR):\n",
        "    if filename.endswith('.txt'):\n",
        "        file_path = os.path.join(CORPUS_DIR, filename)\n",
        "        with open(file_path, 'r', encoding='utf-8') as file:\n",
        "            text = file.read().lower()  # Lee y convierte a minúsculas\n",
        "            text = re.sub(r'[.,:;]', '', text)\n",
        "            text = re.sub(r'[^a-zA-ZñÑáéíóú\\s]', '', text)  # Elimina caracteres no alfanuméricos\n",
        "            documents_text[filename] = text\n",
        "            # Construye el diccionario de términos\n",
        "            words = text.split()\n",
        "            for word in words:\n",
        "                dictionary[word] = True"
      ],
      "metadata": {
        "id": "b12Re6lKTecs"
      },
      "id": "b12Re6lKTecs",
      "execution_count": 38,
      "outputs": []
    },
    {
      "cell_type": "code",
      "source": [
        "# Crear una matriz vacía para almacenar los conteos de términos en documentos\n",
        "term_document_matrix = np.zeros((len(dictionary), len(documents_text)), dtype=int)\n",
        "\n",
        "# Mapear el índice de términos\n",
        "term_index_mapping = {term: idx for idx, term in enumerate(dictionary)}\n",
        "\n",
        "# Llenar la matriz con los conteos de términos en documentos\n",
        "for doc_idx, (doc_name, doc_text) in enumerate(documents_text.items()):\n",
        "    words = doc_text.split()\n",
        "    for word in words:\n",
        "        if word in term_index_mapping:\n",
        "            term_idx = term_index_mapping[word]\n",
        "            term_document_matrix[term_idx, doc_idx] += 1\n"
      ],
      "metadata": {
        "id": "AB2X7XMmTqSv"
      },
      "id": "AB2X7XMmTqSv",
      "execution_count": 39,
      "outputs": []
    },
    {
      "cell_type": "code",
      "source": [
        "print(term_document_matrix)"
      ],
      "metadata": {
        "colab": {
          "base_uri": "https://localhost:8080/"
        },
        "id": "5ayvhHkJTw46",
        "outputId": "84ce0a3d-0061-41b8-ef71-1b4f33488642"
      },
      "id": "5ayvhHkJTw46",
      "execution_count": 40,
      "outputs": [
        {
          "output_type": "stream",
          "name": "stdout",
          "text": [
            "[[2 0 0 ... 0 1 0]\n",
            " [4 0 1 ... 0 0 0]\n",
            " [2 0 0 ... 0 0 0]\n",
            " ...\n",
            " [0 0 0 ... 0 0 1]\n",
            " [0 0 0 ... 0 0 1]\n",
            " [0 0 0 ... 0 0 1]]\n"
          ]
        }
      ]
    },
    {
      "cell_type": "code",
      "source": [
        "import csv\n",
        "\n",
        "# Define el nombre del archivo CSV\n",
        "csv_file = '/content/drive/MyDrive/ri_2024a/week4/term_document_matrix.csv'\n",
        "\n",
        "# Guarda la matriz en el archivo CSV\n",
        "with open(csv_file, 'w', newline='') as file:\n",
        "    writer = csv.writer(file)\n",
        "    # Escribe la primera fila con los nombres de los documentos\n",
        "    writer.writerow(['Term'] + list(documents_text.keys()))\n",
        "    # Escribe las filas con los conteos de términos en documentos\n",
        "    for term, term_counts in zip(dictionary.keys(), term_document_matrix):\n",
        "        writer.writerow([term] + list(term_counts))"
      ],
      "metadata": {
        "id": "cDytBb1bNRcS"
      },
      "id": "cDytBb1bNRcS",
      "execution_count": 41,
      "outputs": []
    },
    {
      "cell_type": "code",
      "source": [
        "import pandas as pd\n",
        "\n",
        "# Lee el archivo CSV en un DataFrame\n",
        "df = pd.read_csv(csv_file)\n",
        "\n",
        "# Muestra el DataFrame\n",
        "print(df)"
      ],
      "metadata": {
        "colab": {
          "base_uri": "https://localhost:8080/"
        },
        "id": "yFBC-VVDNjY5",
        "outputId": "f86b342c-5b66-4c8b-db77-f0ea55d74149"
      },
      "id": "yFBC-VVDNjY5",
      "execution_count": 42,
      "outputs": [
        {
          "output_type": "stream",
          "name": "stdout",
          "text": [
            "            Term  t3.txt  t5.txt  t2.txt  t1.txt  t4.txt  t6.txt  t7.txt  \\\n",
            "0          museo       2       0       0       0       0       0       0   \n",
            "1            del       4       0       1       1       2       0       1   \n",
            "2          prado       2       0       0       0       0       0       0   \n",
            "3             el       2       1       3       0       3       0       3   \n",
            "4             es       1       1       2       0       1       2       1   \n",
            "..           ...     ...     ...     ...     ...     ...     ...     ...   \n",
            "370     especies       0       0       0       0       0       0       0   \n",
            "371   amenazadas       0       0       0       0       0       0       0   \n",
            "372  proporciona       0       0       0       0       0       0       0   \n",
            "373    educativa       0       0       0       0       0       0       0   \n",
            "374  entretenida       0       0       0       0       0       0       0   \n",
            "\n",
            "     t10.txt  t9.txt  ...  t12.txt  t11.txt  t14.txt  t18.txt  t17.txt  \\\n",
            "0          0       0  ...        0        0        0        0        0   \n",
            "1          1       3  ...        0        1        1        1        0   \n",
            "2          0       0  ...        0        0        0        0        0   \n",
            "3          0       2  ...        2        0        2        1        0   \n",
            "4          2       2  ...        2        0        2        2        2   \n",
            "..       ...     ...  ...      ...      ...      ...      ...      ...   \n",
            "370        0       0  ...        0        0        0        0        0   \n",
            "371        0       0  ...        0        0        0        0        0   \n",
            "372        0       0  ...        0        0        0        0        0   \n",
            "373        0       0  ...        0        0        0        0        0   \n",
            "374        0       0  ...        0        0        0        0        0   \n",
            "\n",
            "     t13.txt  t19.txt  t16.txt  t15.txt  t20.txt  \n",
            "0          3        0        0        1        0  \n",
            "1          5        0        0        0        0  \n",
            "2          0        0        0        0        0  \n",
            "3          3        0        4        2        2  \n",
            "4          0        0        1        2        1  \n",
            "..       ...      ...      ...      ...      ...  \n",
            "370        0        0        0        0        1  \n",
            "371        0        0        0        0        1  \n",
            "372        0        0        0        0        1  \n",
            "373        0        0        0        0        1  \n",
            "374        0        0        0        0        1  \n",
            "\n",
            "[375 rows x 21 columns]\n"
          ]
        }
      ]
    },
    {
      "cell_type": "code",
      "outputs": [],
      "source": [
        "# Lista de líneas\n",
        "lineas = [\n",
        "    \"Historia medieval de las ciudades europeas\",\n",
        "    \"Principales destinos turísticos en Europa\",\n",
        "    \"Influencia de la realeza en la cultura europea\",\n",
        "    \"Importancia de los parques urbanos en las ciudades\",\n",
        "    \"Gastronomía típica en capitales europeas\",\n",
        "    \"Eventos deportivos icónicos en Europa\",\n",
        "    \"Celebraciones de Navidad en ciudades europeas\",\n",
        "    \"Museos de arte importantes en Europa\",\n",
        "    \"Efectos de la Segunda Guerra Mundial en ciudades europeas\",\n",
        "    \"Arquitectura histórica en ciudades europeas\",\n",
        "    \"Clubes de fútbol famosos y sus estadios en Europa\",\n",
        "    \"Transformación urbana y regeneración de espacios\",\n",
        "    \"Tradición cervecera en ciudades europeas\",\n",
        "    \"Mercados y comercio tradicional en Europa\",\n",
        "    \"Centros de arte y creatividad en ciudades modernas\",\n",
        "    \"Actividades de ocio y entretenimiento en ciudades metropolitanas\",\n",
        "    \"Conservación de la naturaleza y la vida silvestre en zonas urbanas\",\n",
        "    \"Planificación de eventos culturales y festivales en ciudades\",\n",
        "    \"Desarrollo del transporte y la infraestructura urbana\",\n",
        "    \"Impacto de la tecnología en la vida urbana\"\n",
        "]\n",
        "\n",
        "# Crear archivos .txt para cada línea\n",
        "for i, linea in enumerate(lineas):\n",
        "    nombre_archivo = f\"q{i+1}.txt\"\n",
        "    with open(nombre_archivo, \"w\") as archivo:\n",
        "        archivo.write(linea)\n"
      ],
      "metadata": {
        "ExecuteTime": {
          "end_time": "2024-05-07T13:18:16.884740Z",
          "start_time": "2024-05-07T13:18:16.870498Z"
        },
        "id": "b0392aa935dc471b"
      },
      "id": "b0392aa935dc471b",
      "execution_count": 43
    },
    {
      "cell_type": "code",
      "source": [
        "# Crear una matriz vacía para almacenar los conteos de términos en las líneas\n",
        "term_query_matrix = np.zeros((len(dictionary), len(lineas)), dtype=int)\n",
        "\n",
        "# Recorre las líneas y llena la matriz con los conteos de términos\n",
        "for line_idx, line in enumerate(lineas):\n",
        "    words = line.lower().split()  # Convertir a minúsculas y dividir en palabras\n",
        "    for word in words:\n",
        "        if word in term_index_mapping:\n",
        "            term_idx = term_index_mapping[word]\n",
        "            term_query_matrix[term_idx, line_idx] += 1\n"
      ],
      "metadata": {
        "id": "AA5hiYtZWS77"
      },
      "id": "AA5hiYtZWS77",
      "execution_count": 44,
      "outputs": []
    },
    {
      "cell_type": "code",
      "source": [
        "print(term_query_matrix)"
      ],
      "metadata": {
        "colab": {
          "base_uri": "https://localhost:8080/"
        },
        "id": "p1evMWJbWX5T",
        "outputId": "6329ece5-c542-4a29-9934-048ce7bac3d8"
      },
      "id": "p1evMWJbWX5T",
      "execution_count": 45,
      "outputs": [
        {
          "output_type": "stream",
          "name": "stdout",
          "text": [
            "[[0 0 0 ... 0 0 0]\n",
            " [0 0 0 ... 0 1 0]\n",
            " [0 0 0 ... 0 0 0]\n",
            " ...\n",
            " [0 0 0 ... 0 0 0]\n",
            " [0 0 0 ... 0 0 0]\n",
            " [0 0 0 ... 0 0 0]]\n"
          ]
        }
      ]
    },
    {
      "cell_type": "code",
      "source": [
        "# Define el nombre del archivo CSV\n",
        "csv_file_q = '/content/drive/MyDrive/ri_2024a/week4/term_query_matrix.csv'\n",
        "\n",
        "# Guarda la matriz en el archivo CSV\n",
        "with open(csv_file_q, 'w', newline='') as file:\n",
        "    writer = csv.writer(file)\n",
        "    # Escribe la primera fila con los nombres de los documentos\n",
        "    writer.writerow(['Term'] + list(documents_text.keys()))\n",
        "    # Escribe las filas con los conteos de términos en documentos\n",
        "    for term, term_counts in zip(dictionary.keys(), term_document_matrix):\n",
        "        writer.writerow([term] + list(term_counts))"
      ],
      "metadata": {
        "id": "VxaafI7eWiho"
      },
      "id": "VxaafI7eWiho",
      "execution_count": 46,
      "outputs": []
    },
    {
      "cell_type": "code",
      "source": [
        "df_q = pd.read_csv(csv_file_q)\n",
        "print(df_q)"
      ],
      "metadata": {
        "colab": {
          "base_uri": "https://localhost:8080/"
        },
        "id": "Ledq-T8qWuTM",
        "outputId": "69b8c0fd-b1b9-48db-d1f3-6cd12bf0f95d"
      },
      "id": "Ledq-T8qWuTM",
      "execution_count": 47,
      "outputs": [
        {
          "output_type": "stream",
          "name": "stdout",
          "text": [
            "            Term  t3.txt  t5.txt  t2.txt  t1.txt  t4.txt  t6.txt  t7.txt  \\\n",
            "0          museo       2       0       0       0       0       0       0   \n",
            "1            del       4       0       1       1       2       0       1   \n",
            "2          prado       2       0       0       0       0       0       0   \n",
            "3             el       2       1       3       0       3       0       3   \n",
            "4             es       1       1       2       0       1       2       1   \n",
            "..           ...     ...     ...     ...     ...     ...     ...     ...   \n",
            "370     especies       0       0       0       0       0       0       0   \n",
            "371   amenazadas       0       0       0       0       0       0       0   \n",
            "372  proporciona       0       0       0       0       0       0       0   \n",
            "373    educativa       0       0       0       0       0       0       0   \n",
            "374  entretenida       0       0       0       0       0       0       0   \n",
            "\n",
            "     t10.txt  t9.txt  ...  t12.txt  t11.txt  t14.txt  t18.txt  t17.txt  \\\n",
            "0          0       0  ...        0        0        0        0        0   \n",
            "1          1       3  ...        0        1        1        1        0   \n",
            "2          0       0  ...        0        0        0        0        0   \n",
            "3          0       2  ...        2        0        2        1        0   \n",
            "4          2       2  ...        2        0        2        2        2   \n",
            "..       ...     ...  ...      ...      ...      ...      ...      ...   \n",
            "370        0       0  ...        0        0        0        0        0   \n",
            "371        0       0  ...        0        0        0        0        0   \n",
            "372        0       0  ...        0        0        0        0        0   \n",
            "373        0       0  ...        0        0        0        0        0   \n",
            "374        0       0  ...        0        0        0        0        0   \n",
            "\n",
            "     t13.txt  t19.txt  t16.txt  t15.txt  t20.txt  \n",
            "0          3        0        0        1        0  \n",
            "1          5        0        0        0        0  \n",
            "2          0        0        0        0        0  \n",
            "3          3        0        4        2        2  \n",
            "4          0        0        1        2        1  \n",
            "..       ...      ...      ...      ...      ...  \n",
            "370        0        0        0        0        1  \n",
            "371        0        0        0        0        1  \n",
            "372        0        0        0        0        1  \n",
            "373        0        0        0        0        1  \n",
            "374        0        0        0        0        1  \n",
            "\n",
            "[375 rows x 21 columns]\n"
          ]
        }
      ]
    }
  ],
  "metadata": {
    "kernelspec": {
      "display_name": "Python 3",
      "language": "python",
      "name": "python3"
    },
    "language_info": {
      "codemirror_mode": {
        "name": "ipython",
        "version": 2
      },
      "file_extension": ".py",
      "mimetype": "text/x-python",
      "name": "python",
      "nbconvert_exporter": "python",
      "pygments_lexer": "ipython2",
      "version": "2.7.6"
    },
    "colab": {
      "provenance": [],
      "include_colab_link": true
    }
  },
  "nbformat": 4,
  "nbformat_minor": 5
}