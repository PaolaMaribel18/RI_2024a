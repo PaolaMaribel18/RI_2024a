{
  "nbformat": 4,
  "nbformat_minor": 0,
  "metadata": {
    "colab": {
      "provenance": [],
      "mount_file_id": "1TfGf_DNf90I_D_J0xMmxdyDudVbTho1D",
      "authorship_tag": "ABX9TyO985AI2yN5u1FRtyQ5ag3h",
      "include_colab_link": true
    },
    "kernelspec": {
      "name": "python3",
      "display_name": "Python 3"
    },
    "language_info": {
      "name": "python"
    }
  },
  "cells": [
    {
      "cell_type": "markdown",
      "metadata": {
        "id": "view-in-github",
        "colab_type": "text"
      },
      "source": [
        "<a href=\"https://colab.research.google.com/github/PaolaMaribel18/RI_2024a/blob/main/week12/web_scraping1_clase.ipynb\" target=\"_parent\"><img src=\"https://colab.research.google.com/assets/colab-badge.svg\" alt=\"Open In Colab\"/></a>"
      ]
    },
    {
      "cell_type": "code",
      "execution_count": null,
      "metadata": {
        "id": "0_uWM11N5pBu"
      },
      "outputs": [],
      "source": [
        "from bs4 import BeautifulSoup\n",
        "import requests\n",
        "import re\n",
        "import pandas as pd"
      ]
    },
    {
      "cell_type": "code",
      "source": [
        "file_path='/content/drive/MyDrive/Colab Notebooks/week12/data/Korean Fried Chicken Recipe.html'"
      ],
      "metadata": {
        "id": "3DNbKhvT7yiF"
      },
      "execution_count": null,
      "outputs": []
    },
    {
      "cell_type": "code",
      "source": [
        "with open(file_path, 'r', encoding='utf-8') as file:\n",
        "    html_content = file.read()"
      ],
      "metadata": {
        "id": "rV3p56mw_8v_"
      },
      "execution_count": null,
      "outputs": []
    },
    {
      "cell_type": "code",
      "source": [
        "soup = BeautifulSoup(html_content, 'html.parser')\n"
      ],
      "metadata": {
        "id": "dWuWUiY6AAtO"
      },
      "execution_count": null,
      "outputs": []
    },
    {
      "cell_type": "code",
      "source": [
        "name=soup.find('h1',class_= \"article-heading type--lion\").text"
      ],
      "metadata": {
        "id": "jmnGrFJP5waa"
      },
      "execution_count": null,
      "outputs": []
    },
    {
      "cell_type": "code",
      "source": [
        "print(name)"
      ],
      "metadata": {
        "colab": {
          "base_uri": "https://localhost:8080/"
        },
        "id": "xSUU-8M6Agll",
        "outputId": "d0efc9fd-8161-498b-dcb2-f26714a3f391"
      },
      "execution_count": null,
      "outputs": [
        {
          "output_type": "stream",
          "name": "stdout",
          "text": [
            "Korean Fried Chicken\n"
          ]
        }
      ]
    },
    {
      "cell_type": "code",
      "source": [
        "description = soup.find('p',class_=\"article-subheading type--dog\").text"
      ],
      "metadata": {
        "id": "Sg8EIYdn6M17"
      },
      "execution_count": null,
      "outputs": []
    },
    {
      "cell_type": "code",
      "source": [
        "print(description)"
      ],
      "metadata": {
        "colab": {
          "base_uri": "https://localhost:8080/"
        },
        "id": "bYrZk3p2Afiq",
        "outputId": "dddc202f-4dac-40cd-a521-48469c9d9a05"
      },
      "execution_count": null,
      "outputs": [
        {
          "output_type": "stream",
          "name": "stdout",
          "text": [
            "This Korean fried chicken recipe is officially my favorite. I've had every style of fried chicken known to man, so I've always considered myself an expert. No other method I've come across has the same combination of tender, juicy, flavorful chicken and plate-scratching crispiness as this recipe does. It's simply a must-try!\n"
          ]
        }
      ]
    },
    {
      "cell_type": "code",
      "source": [
        "ingredients = []\n",
        "for item in soup.find_all('li',class_= \"mm-recipes-structured-ingredients__list-item\"):\n",
        "  print (item.text.strip())\n",
        "  ingredients.append(item.text.strip())"
      ],
      "metadata": {
        "colab": {
          "base_uri": "https://localhost:8080/"
        },
        "id": "3VRX0OpFBT8l",
        "outputId": "c6552bf5-a283-4f51-e83b-c3b6c4947add"
      },
      "execution_count": null,
      "outputs": [
        {
          "output_type": "stream",
          "name": "stdout",
          "text": [
            "1 pound skinless, boneless chicken thighs, quartered\n",
            "½  yellow onion, grated\n",
            "4 cloves garlic, minced\n",
            "1 teaspoon fine salt\n",
            "½ teaspoon freshly ground black pepper\n",
            "4 cups oil for frying, or as needed\n",
            "¾ cup cornstarch\n",
            "½ cup self-rising flour\n",
            "1 teaspoon white sugar\n",
            "½ teaspoon ground black pepper\n",
            "¼ teaspoon salt\n",
            "1 cup very cold water, or as needed\n"
          ]
        }
      ]
    },
    {
      "cell_type": "markdown",
      "source": [
        "id,name, description, ingredients,steps"
      ],
      "metadata": {
        "id": "Re3kCjmp8fuD"
      }
    },
    {
      "cell_type": "code",
      "source": [
        "for i in ingredients:\n",
        "  print(i)"
      ],
      "metadata": {
        "colab": {
          "base_uri": "https://localhost:8080/"
        },
        "id": "zXD7uju_8cng",
        "outputId": "80745918-b4e6-4915-ebf8-4262d1c89fd4"
      },
      "execution_count": null,
      "outputs": [
        {
          "output_type": "stream",
          "name": "stdout",
          "text": [
            "1 pound skinless, boneless chicken thighs, quartered\n",
            "½  yellow onion, grated\n",
            "4 cloves garlic, minced\n",
            "1 teaspoon fine salt\n",
            "½ teaspoon freshly ground black pepper\n",
            "4 cups oil for frying, or as needed\n",
            "¾ cup cornstarch\n",
            "½ cup self-rising flour\n",
            "1 teaspoon white sugar\n",
            "½ teaspoon ground black pepper\n",
            "¼ teaspoon salt\n",
            "1 cup very cold water, or as needed\n"
          ]
        }
      ]
    },
    {
      "cell_type": "code",
      "source": [
        "steps = []\n",
        "for item in soup.find_all('p',class_= \"comp mntl-sc-block mntl-sc-block-html\"):\n",
        "  print (item.text.strip())\n",
        "  steps.append(item.text.strip())"
      ],
      "metadata": {
        "colab": {
          "base_uri": "https://localhost:8080/"
        },
        "id": "EBVJk_nyBxpA",
        "outputId": "932d5f4c-417e-46f5-99d6-8c67d81e8abc"
      },
      "execution_count": null,
      "outputs": [
        {
          "output_type": "stream",
          "name": "stdout",
          "text": [
            "Gather all ingredients.\n",
            "Make marinade: Stir together chicken, onion, garlic, salt, and pepper in a medium bowl until chicken is coated. Cover the bowl with plastic wrap and refrigerate, 4 hours to overnight.\n",
            "Heat oil in a deep fryer or large saucepan to 340 degrees F (171 degrees C).\n",
            "While oil is heating, make batter: Whisk together cornstarch, flour, sugar, pepper, and salt in a large bowl. Gradually whisk in cold water until mixture resembles smooth pancake batter. Use tongs to remove chicken from marinade to batter; stir to coat chicken completely. Discard marinade.\n",
            "Working in batches, fry chicken in hot oil for 4 minutes. Transfer chicken to a cooling rack.\n",
            "Increase oil temperature to 375 degrees F (190 degrees C).\n",
            "Working in batches, fry chicken again in hot oil until golden brown and crispy, 3 to 4 minutes. Transfer to a wire rack to drain.\n",
            "Enjoy!\n",
            "The nutrition data for this recipe includes the full amount of the breading ingredients. The actual amount of the breading consumed will vary.\n",
            "We have determined the nutritional value of oil for frying based on a retention value of 10% after cooking. The exact amount will vary depending on cooking time and temperature, ingredient density, and the specific type of oil used.\n"
          ]
        }
      ]
    },
    {
      "cell_type": "code",
      "source": [
        "for i in steps:\n",
        "  print(i)"
      ],
      "metadata": {
        "colab": {
          "base_uri": "https://localhost:8080/"
        },
        "id": "QzTtjRV0CftX",
        "outputId": "47d256bc-b9f5-40c1-fe16-ceae6c6d0fb0"
      },
      "execution_count": null,
      "outputs": [
        {
          "output_type": "stream",
          "name": "stdout",
          "text": [
            "Gather all ingredients.\n",
            "Make marinade: Stir together chicken, onion, garlic, salt, and pepper in a medium bowl until chicken is coated. Cover the bowl with plastic wrap and refrigerate, 4 hours to overnight.\n",
            "Heat oil in a deep fryer or large saucepan to 340 degrees F (171 degrees C).\n",
            "While oil is heating, make batter: Whisk together cornstarch, flour, sugar, pepper, and salt in a large bowl. Gradually whisk in cold water until mixture resembles smooth pancake batter. Use tongs to remove chicken from marinade to batter; stir to coat chicken completely. Discard marinade.\n",
            "Working in batches, fry chicken in hot oil for 4 minutes. Transfer chicken to a cooling rack.\n",
            "Increase oil temperature to 375 degrees F (190 degrees C).\n",
            "Working in batches, fry chicken again in hot oil until golden brown and crispy, 3 to 4 minutes. Transfer to a wire rack to drain.\n",
            "Enjoy!\n",
            "The nutrition data for this recipe includes the full amount of the breading ingredients. The actual amount of the breading consumed will vary.\n",
            "We have determined the nutritional value of oil for frying based on a retention value of 10% after cooking. The exact amount will vary depending on cooking time and temperature, ingredient density, and the specific type of oil used.\n"
          ]
        }
      ]
    },
    {
      "cell_type": "code",
      "source": [
        "df = pd.DataFrame({\n",
        "    'name': [name],\n",
        "    'description': [description],\n",
        "    'ingredients': [ingredients],\n",
        "    'steps': [steps]\n",
        "})"
      ],
      "metadata": {
        "id": "zyrUUrUCC-H_"
      },
      "execution_count": null,
      "outputs": []
    },
    {
      "cell_type": "code",
      "source": [
        "df.to_csv('/content/drive/MyDrive/Colab Notebooks/week12/data/Korean_fried_chicken_recipe.csv', index=True)"
      ],
      "metadata": {
        "id": "WdqDgnp3D4S-"
      },
      "execution_count": null,
      "outputs": []
    },
    {
      "cell_type": "code",
      "source": [
        "print(df)"
      ],
      "metadata": {
        "colab": {
          "base_uri": "https://localhost:8080/"
        },
        "id": "5okJjFm1DH39",
        "outputId": "6c309074-b3db-424d-d520-7215e04b5928"
      },
      "execution_count": null,
      "outputs": [
        {
          "output_type": "stream",
          "name": "stdout",
          "text": [
            "                   name                                        description  \\\n",
            "0  Korean Fried Chicken  This Korean fried chicken recipe is officially...   \n",
            "\n",
            "                                         ingredients  \\\n",
            "0  [1 pound skinless, boneless chicken thighs, qu...   \n",
            "\n",
            "                                               steps  \n",
            "0  [Gather all ingredients., Make marinade: Stir ...  \n"
          ]
        }
      ]
    }
  ]
}