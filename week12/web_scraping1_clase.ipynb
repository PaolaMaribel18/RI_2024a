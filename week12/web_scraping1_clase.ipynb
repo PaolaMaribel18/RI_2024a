{
  "nbformat": 4,
  "nbformat_minor": 0,
  "metadata": {
    "colab": {
      "provenance": [],
      "mount_file_id": "1TfGf_DNf90I_D_J0xMmxdyDudVbTho1D",
      "authorship_tag": "ABX9TyNv1hITAjEcC2s8YRiulcV5",
      "include_colab_link": true
    },
    "kernelspec": {
      "name": "python3",
      "display_name": "Python 3"
    },
    "language_info": {
      "name": "python"
    }
  },
  "cells": [
    {
      "cell_type": "markdown",
      "metadata": {
        "id": "view-in-github",
        "colab_type": "text"
      },
      "source": [
        "<a href=\"https://colab.research.google.com/github/PaolaMaribel18/RI_2024a/blob/main/week12/web_scraping1_clase.ipynb\" target=\"_parent\"><img src=\"https://colab.research.google.com/assets/colab-badge.svg\" alt=\"Open In Colab\"/></a>"
      ]
    },
    {
      "cell_type": "code",
      "execution_count": null,
      "metadata": {
        "id": "0_uWM11N5pBu"
      },
      "outputs": [],
      "source": [
        "from bs4 import BeautifulSoup\n",
        "import requests\n",
        "import re\n",
        "import pandas as pd"
      ]
    },
    {
      "cell_type": "code",
      "source": [
        "file_path='/content/drive/MyDrive/Colab Notebooks/week12/data/Korean Fried Chicken Recipe.html'"
      ],
      "metadata": {
        "id": "3DNbKhvT7yiF"
      },
      "execution_count": null,
      "outputs": []
    },
    {
      "cell_type": "code",
      "source": [
        "with open(file_path, 'r', encoding='utf-8') as file:\n",
        "    html_content = file.read()"
      ],
      "metadata": {
        "id": "rV3p56mw_8v_"
      },
      "execution_count": null,
      "outputs": []
    },
    {
      "cell_type": "code",
      "source": [
        "soup = BeautifulSoup(html_content, 'html.parser')\n"
      ],
      "metadata": {
        "id": "dWuWUiY6AAtO"
      },
      "execution_count": null,
      "outputs": []
    },
    {
      "cell_type": "code",
      "source": [
        "name=soup.find('h1',class_= \"article-heading type--lion\").text"
      ],
      "metadata": {
        "id": "jmnGrFJP5waa"
      },
      "execution_count": null,
      "outputs": []
    },
    {
      "cell_type": "code",
      "source": [
        "print(name)"
      ],
      "metadata": {
        "colab": {
          "base_uri": "https://localhost:8080/"
        },
        "id": "xSUU-8M6Agll",
        "outputId": "d0efc9fd-8161-498b-dcb2-f26714a3f391"
      },
      "execution_count": null,
      "outputs": [
        {
          "output_type": "stream",
          "name": "stdout",
          "text": [
            "Korean Fried Chicken\n"
          ]
        }
      ]
    },
    {
      "cell_type": "code",
      "source": [
        "description = soup.find('p',class_=\"article-subheading type--dog\").text"
      ],
      "metadata": {
        "id": "Sg8EIYdn6M17"
      },
      "execution_count": null,
      "outputs": []
    },
    {
      "cell_type": "code",
      "source": [
        "print(description)"
      ],
      "metadata": {
        "colab": {
          "base_uri": "https://localhost:8080/"
        },
        "id": "bYrZk3p2Afiq",
        "outputId": "dddc202f-4dac-40cd-a521-48469c9d9a05"
      },
      "execution_count": null,
      "outputs": [
        {
          "output_type": "stream",
          "name": "stdout",
          "text": [
            "This Korean fried chicken recipe is officially my favorite. I've had every style of fried chicken known to man, so I've always considered myself an expert. No other method I've come across has the same combination of tender, juicy, flavorful chicken and plate-scratching crispiness as this recipe does. It's simply a must-try!\n"
          ]
        }
      ]
    },
    {
      "cell_type": "code",
      "source": [
        "ingredients = []\n",
        "for item in soup.find_all('li',class_= \"mm-recipes-structured-ingredients__list-item\"):\n",
        "  print (item.text.strip())\n",
        "  ingredients.append(item.text.strip())"
      ],
      "metadata": {
        "colab": {
          "base_uri": "https://localhost:8080/"
        },
        "id": "3VRX0OpFBT8l",
        "outputId": "c6552bf5-a283-4f51-e83b-c3b6c4947add"
      },
      "execution_count": null,
      "outputs": [
        {
          "output_type": "stream",
          "name": "stdout",
          "text": [
            "1 pound skinless, boneless chicken thighs, quartered\n",
            "½  yellow onion, grated\n",
            "4 cloves garlic, minced\n",
            "1 teaspoon fine salt\n",
            "½ teaspoon freshly ground black pepper\n",
            "4 cups oil for frying, or as needed\n",
            "¾ cup cornstarch\n",
            "½ cup self-rising flour\n",
            "1 teaspoon white sugar\n",
            "½ teaspoon ground black pepper\n",
            "¼ teaspoon salt\n",
            "1 cup very cold water, or as needed\n"
          ]
        }
      ]
    },
    {
      "cell_type": "markdown",
      "source": [
        "id,name, description, ingredients,steps"
      ],
      "metadata": {
        "id": "Re3kCjmp8fuD"
      }
    },
    {
      "cell_type": "code",
      "source": [
        "for i in ingredients:\n",
        "  print(i)"
      ],
      "metadata": {
        "colab": {
          "base_uri": "https://localhost:8080/"
        },
        "id": "zXD7uju_8cng",
        "outputId": "80745918-b4e6-4915-ebf8-4262d1c89fd4"
      },
      "execution_count": null,
      "outputs": [
        {
          "output_type": "stream",
          "name": "stdout",
          "text": [
            "1 pound skinless, boneless chicken thighs, quartered\n",
            "½  yellow onion, grated\n",
            "4 cloves garlic, minced\n",
            "1 teaspoon fine salt\n",
            "½ teaspoon freshly ground black pepper\n",
            "4 cups oil for frying, or as needed\n",
            "¾ cup cornstarch\n",
            "½ cup self-rising flour\n",
            "1 teaspoon white sugar\n",
            "½ teaspoon ground black pepper\n",
            "¼ teaspoon salt\n",
            "1 cup very cold water, or as needed\n"
          ]
        }
      ]
    },
    {
      "cell_type": "code",
      "source": [
        "steps = []\n",
        "for item in soup.find_all('p',class_= \"comp mntl-sc-block mntl-sc-block-html\"):\n",
        "  print (item.text.strip())\n",
        "  steps.append(item.text.strip())"
      ],
      "metadata": {
        "colab": {
          "base_uri": "https://localhost:8080/"
        },
        "id": "EBVJk_nyBxpA",
        "outputId": "932d5f4c-417e-46f5-99d6-8c67d81e8abc"
      },
      "execution_count": null,
      "outputs": [
        {
          "output_type": "stream",
          "name": "stdout",
          "text": [
            "Gather all ingredients.\n",
            "Make marinade: Stir together chicken, onion, garlic, salt, and pepper in a medium bowl until chicken is coated. Cover the bowl with plastic wrap and refrigerate, 4 hours to overnight.\n",
            "Heat oil in a deep fryer or large saucepan to 340 degrees F (171 degrees C).\n",
            "While oil is heating, make batter: Whisk together cornstarch, flour, sugar, pepper, and salt in a large bowl. Gradually whisk in cold water until mixture resembles smooth pancake batter. Use tongs to remove chicken from marinade to batter; stir to coat chicken completely. Discard marinade.\n",
            "Working in batches, fry chicken in hot oil for 4 minutes. Transfer chicken to a cooling rack.\n",
            "Increase oil temperature to 375 degrees F (190 degrees C).\n",
            "Working in batches, fry chicken again in hot oil until golden brown and crispy, 3 to 4 minutes. Transfer to a wire rack to drain.\n",
            "Enjoy!\n",
            "The nutrition data for this recipe includes the full amount of the breading ingredients. The actual amount of the breading consumed will vary.\n",
            "We have determined the nutritional value of oil for frying based on a retention value of 10% after cooking. The exact amount will vary depending on cooking time and temperature, ingredient density, and the specific type of oil used.\n"
          ]
        }
      ]
    },
    {
      "cell_type": "code",
      "source": [
        "for i in steps:\n",
        "  print(i)"
      ],
      "metadata": {
        "colab": {
          "base_uri": "https://localhost:8080/"
        },
        "id": "QzTtjRV0CftX",
        "outputId": "47d256bc-b9f5-40c1-fe16-ceae6c6d0fb0"
      },
      "execution_count": null,
      "outputs": [
        {
          "output_type": "stream",
          "name": "stdout",
          "text": [
            "Gather all ingredients.\n",
            "Make marinade: Stir together chicken, onion, garlic, salt, and pepper in a medium bowl until chicken is coated. Cover the bowl with plastic wrap and refrigerate, 4 hours to overnight.\n",
            "Heat oil in a deep fryer or large saucepan to 340 degrees F (171 degrees C).\n",
            "While oil is heating, make batter: Whisk together cornstarch, flour, sugar, pepper, and salt in a large bowl. Gradually whisk in cold water until mixture resembles smooth pancake batter. Use tongs to remove chicken from marinade to batter; stir to coat chicken completely. Discard marinade.\n",
            "Working in batches, fry chicken in hot oil for 4 minutes. Transfer chicken to a cooling rack.\n",
            "Increase oil temperature to 375 degrees F (190 degrees C).\n",
            "Working in batches, fry chicken again in hot oil until golden brown and crispy, 3 to 4 minutes. Transfer to a wire rack to drain.\n",
            "Enjoy!\n",
            "The nutrition data for this recipe includes the full amount of the breading ingredients. The actual amount of the breading consumed will vary.\n",
            "We have determined the nutritional value of oil for frying based on a retention value of 10% after cooking. The exact amount will vary depending on cooking time and temperature, ingredient density, and the specific type of oil used.\n"
          ]
        }
      ]
    },
    {
      "cell_type": "code",
      "source": [
        "df = pd.DataFrame({\n",
        "    'name': [name],\n",
        "    'description': [description],\n",
        "    'ingredients': [ingredients],\n",
        "    'steps': [steps]\n",
        "})"
      ],
      "metadata": {
        "id": "zyrUUrUCC-H_"
      },
      "execution_count": null,
      "outputs": []
    },
    {
      "cell_type": "code",
      "source": [
        "df.to_csv('/content/drive/MyDrive/Colab Notebooks/week12/data/Korean_fried_chicken_recipe.csv', index=True)"
      ],
      "metadata": {
        "id": "WdqDgnp3D4S-"
      },
      "execution_count": null,
      "outputs": []
    },
    {
      "cell_type": "code",
      "source": [
        "print(df)"
      ],
      "metadata": {
        "colab": {
          "base_uri": "https://localhost:8080/"
        },
        "id": "5okJjFm1DH39",
        "outputId": "6c309074-b3db-424d-d520-7215e04b5928"
      },
      "execution_count": null,
      "outputs": [
        {
          "output_type": "stream",
          "name": "stdout",
          "text": [
            "                   name                                        description  \\\n",
            "0  Korean Fried Chicken  This Korean fried chicken recipe is officially...   \n",
            "\n",
            "                                         ingredients  \\\n",
            "0  [1 pound skinless, boneless chicken thighs, qu...   \n",
            "\n",
            "                                               steps  \n",
            "0  [Gather all ingredients., Make marinade: Stir ...  \n"
          ]
        }
      ]
    },
    {
      "cell_type": "markdown",
      "source": [
        "### Web scrapping"
      ],
      "metadata": {
        "id": "slQ6OVmteKqa"
      }
    },
    {
      "cell_type": "code",
      "source": [
        "index_url = 'https://www.allrecipes.com/recipes/'\n"
      ],
      "metadata": {
        "id": "tFPMYNF9dAB7"
      },
      "execution_count": null,
      "outputs": []
    },
    {
      "cell_type": "markdown",
      "source": [],
      "metadata": {
        "id": "5kvROfzJjroB"
      }
    },
    {
      "cell_type": "code",
      "source": [
        "# Función para obtener todas las URLs de las recetas desde la página de recetas\n",
        "def get_recipe_urls(index_url):\n",
        "    print(\"Accediendo a la página de recetas...\")\n",
        "    headers = {\n",
        "        'User-Agent': 'Mozilla/5.0 (Windows NT 10.0; Win64; x64) AppleWebKit/537.36 (KHTML, like Gecko) Chrome/58.0.3029.110 Safari/537.3'\n",
        "    }\n",
        "    response = requests.get(index_url, headers=headers)\n",
        "\n",
        "    if response.status_code == 200:\n",
        "        print(\"Página de recetas cargada exitosamente.\")\n",
        "    else:\n",
        "        print(f\"Error al acceder a la página: {response.status_code}\")\n",
        "        return []\n",
        "\n",
        "    soup = BeautifulSoup(response.text, 'html.parser')\n",
        "\n",
        "    # Encuentra todos los enlaces a las recetas\n",
        "    recipe_links = soup.find_all('a', href=True)  # Captura todos los enlaces\n",
        "\n",
        "    # Filtrar enlaces relevantes que contengan 'recipe'\n",
        "    recipe_urls = [link['href'] for link in recipe_links if 'recipe' in link['href']]\n",
        "\n",
        "    print(f\"Se encontraron {len(recipe_urls)} enlaces de recetas.\")\n",
        "    return recipe_urls\n",
        "\n",
        "# Llama a la función\n",
        "urls = get_recipe_urls(index_url)\n",
        "print(urls)  # Imprime los enlaces encontrados"
      ],
      "metadata": {
        "colab": {
          "base_uri": "https://localhost:8080/"
        },
        "id": "bOj7sXP8j2uC",
        "outputId": "cf54188c-1d56-4e8d-f75d-350f1a966022"
      },
      "execution_count": null,
      "outputs": [
        {
          "output_type": "stream",
          "name": "stdout",
          "text": [
            "Accediendo a la página de recetas...\n",
            "Página de recetas cargada exitosamente.\n",
            "Se encontraron 277 enlaces de recetas.\n",
            "['https://www.allrecipes.com/authentication/login?regSource=3675&relativeRedirectUrl=%2Frecipes%2F', 'https://www.allrecipes.com/authentication/logout?relativeRedirectUrl=%2Frecipes%2F', '/account/add-recipe', 'https://www.magazines.com/allrecipes-magazine.html?utm_source=allrecipes.com&utm_medium=owned&utm_campaign=i111arr1w2661', 'https://www.magazines.com/allrecipes-magazine.html', 'https://www.allrecipes.com/recipes/17562/dinner/', 'https://www.allrecipes.com/recipes/17057/everyday-cooking/more-meal-ideas/5-ingredients/main-dishes/', 'https://www.allrecipes.com/recipes/15436/everyday-cooking/one-pot-meals/', 'https://www.allrecipes.com/recipes/1947/everyday-cooking/quick-and-easy/', 'https://www.allrecipes.com/recipes/455/everyday-cooking/more-meal-ideas/30-minute-meals/', 'https://www.allrecipes.com/recipes/94/soups-stews-and-chili/', 'https://www.allrecipes.com/recipes/16099/everyday-cooking/comfort-food/', 'https://www.allrecipes.com/recipes/80/main-dish/', 'https://www.allrecipes.com/recipes/22992/everyday-cooking/sheet-pan-dinners/', 'https://www.allrecipes.com/recipes/17562/dinner/', 'https://www.allrecipes.com/recipes-a-z-6735880', 'https://www.allrecipes.com/recipes/78/breakfast-and-brunch/', 'https://www.allrecipes.com/recipes/17561/lunch/', 'https://www.allrecipes.com/recipes/84/healthy-recipes/', 'https://www.allrecipes.com/recipes/76/appetizers-and-snacks/', 'https://www.allrecipes.com/recipes/96/salad/', 'https://www.allrecipes.com/recipes/81/side-dish/', 'https://www.allrecipes.com/recipes/16369/soups-stews-and-chili/soup/', 'https://www.allrecipes.com/recipes/156/bread/', 'https://www.allrecipes.com/recipes/77/drinks/', 'https://www.allrecipes.com/recipes/79/desserts/', 'https://www.allrecipes.com/recipes-a-z-6735880', 'https://www.allrecipes.com/ingredients-a-z-6740416', 'https://www.allrecipes.com/recipes/201/meat-and-poultry/chicken/', 'https://www.allrecipes.com/recipes/200/meat-and-poultry/beef/', 'https://www.allrecipes.com/recipes/205/meat-and-poultry/pork/', 'https://www.allrecipes.com/recipes/93/seafood/', 'https://www.allrecipes.com/recipes/95/pasta-and-noodles/', 'https://www.allrecipes.com/recipes/1058/fruits-and-vegetables/fruits/', 'https://www.allrecipes.com/recipes/1059/fruits-and-vegetables/vegetables/', 'https://www.allrecipes.com/ingredients-a-z-6740416', 'https://www.allrecipes.com/recipes/85/holidays-and-events/', 'https://www.allrecipes.com/recipes/1578/holidays-and-events/events-and-gatherings/', 'https://www.allrecipes.com/recipes/630/everyday-cooking/seasonal/summer/', 'https://www.allrecipes.com/recipes/11985/everyday-cooking/family-friendly/back-to-school/', 'https://www.allrecipes.com/recipes/85/holidays-and-events/', 'https://www.allrecipes.com/cuisine-a-z-6740455', 'https://www.allrecipes.com/recipes/728/world-cuisine/latin-american/mexican/', 'https://www.allrecipes.com/recipes/723/world-cuisine/european/italian/', 'https://www.allrecipes.com/recipes/695/world-cuisine/asian/chinese/', 'https://www.allrecipes.com/recipes/233/world-cuisine/asian/indian/', 'https://www.allrecipes.com/recipes/722/world-cuisine/european/german/', 'https://www.allrecipes.com/recipes/731/world-cuisine/european/greek/', 'https://www.allrecipes.com/recipes/696/world-cuisine/asian/filipino/', 'https://www.allrecipes.com/recipes/699/world-cuisine/asian/japanese/', 'https://www.allrecipes.com/cuisine-a-z-6740455', 'https://www.allrecipes.com/kitchen-tips/', 'https://www.allrecipes.com/recipes/22882/everyday-cooking/instant-pot/', 'https://www.allrecipes.com/recipes/23070/everyday-cooking/cookware-and-equipment/air-fryer/', 'https://www.allrecipes.com/recipes/253/everyday-cooking/slow-cooker/', 'https://www.allrecipes.com/food-news-trends/product-reviews/', 'https://www.allrecipes.com/recipes/88/bbq-grilling/', 'https://www.allrecipes.com/recipes/17583/everyday-cooking/cookware-and-equipment/', 'https://www.allrecipes.com/kitchen-tips/all-about-ingredients/substitutions/', 'https://www.allrecipes.com/kitchen-tips/', 'https://www.allrecipes.com/food-news-trends/', 'https://www.allrecipes.com/food-news-trends/celebrity-entertainment/', 'https://www.allrecipes.com/fast-food-8672832', 'https://www.allrecipes.com/grocery-8672835', 'https://www.allrecipes.com/food-news-trends/recalls/', 'https://www.allrecipes.com/food-news-trends/trends/', 'https://www.allrecipes.com/food-news-trends/', 'https://www.allrecipes.com/recipes/1642/everyday-cooking/', 'https://www.allrecipes.com/kitchen-tips/how-to/dinner-fix/', 'https://www.allrecipes.com/kitchen-tips/how-to/sweet-spot/', 'https://www.allrecipes.com/kitchen-tips/in-the-kitchen/', 'https://www.allrecipes.com/recipes/', 'https://www.allrecipes.com/about-us-6648102', 'https://www.allrecipes.com/allstars-8661275', 'https://www.allrecipes.com/article/how-to-submit-recipes/', 'https://www.magazines.com/allrecipes-magazine.html?utm_source=allrecipes.com&utm_medium=owned&utm_campaign=i111arr1w2661', 'https://www.allrecipes.com/authentication/login?regSource=3675&relativeRedirectUrl=%2Frecipes%2F', 'https://www.allrecipes.com/authentication/logout?relativeRedirectUrl=%2Frecipes%2F', '/account/add-recipe', 'https://www.magazines.com/allrecipes-magazine.html?utm_source=allrecipes.com&utm_medium=owned&utm_campaign=i111arr1w2661', 'https://www.magazines.com/allrecipes-magazine.html', 'https://www.facebook.com/allrecipes', 'https://www.instagram.com/allrecipes/', 'https://www.pinterest.com/allrecipes/', 'https://www.tiktok.com/@allrecipes', 'https://www.youtube.com/user/allrecipes/videos', 'https://twitter.com/Allrecipes', 'https://flipboard.com/@Allrecipes', 'https://www.allrecipes.com/recipes/17562/dinner/', 'https://www.allrecipes.com/recipes/17057/everyday-cooking/more-meal-ideas/5-ingredients/main-dishes/', 'https://www.allrecipes.com/recipes/15436/everyday-cooking/one-pot-meals/', 'https://www.allrecipes.com/recipes/1947/everyday-cooking/quick-and-easy/', 'https://www.allrecipes.com/recipes/455/everyday-cooking/more-meal-ideas/30-minute-meals/', 'https://www.allrecipes.com/recipes/94/soups-stews-and-chili/', 'https://www.allrecipes.com/recipes/16099/everyday-cooking/comfort-food/', 'https://www.allrecipes.com/recipes/80/main-dish/', 'https://www.allrecipes.com/recipes/22992/everyday-cooking/sheet-pan-dinners/', 'https://www.allrecipes.com/recipes/17562/dinner/', 'https://www.allrecipes.com/recipes-a-z-6735880', 'https://www.allrecipes.com/recipes/78/breakfast-and-brunch/', 'https://www.allrecipes.com/recipes/17561/lunch/', 'https://www.allrecipes.com/recipes/84/healthy-recipes/', 'https://www.allrecipes.com/recipes/76/appetizers-and-snacks/', 'https://www.allrecipes.com/recipes/96/salad/', 'https://www.allrecipes.com/recipes/81/side-dish/', 'https://www.allrecipes.com/recipes/16369/soups-stews-and-chili/soup/', 'https://www.allrecipes.com/recipes/156/bread/', 'https://www.allrecipes.com/recipes/77/drinks/', 'https://www.allrecipes.com/recipes/79/desserts/', 'https://www.allrecipes.com/recipes-a-z-6735880', 'https://www.allrecipes.com/ingredients-a-z-6740416', 'https://www.allrecipes.com/recipes/201/meat-and-poultry/chicken/', 'https://www.allrecipes.com/recipes/200/meat-and-poultry/beef/', 'https://www.allrecipes.com/recipes/205/meat-and-poultry/pork/', 'https://www.allrecipes.com/recipes/93/seafood/', 'https://www.allrecipes.com/recipes/95/pasta-and-noodles/', 'https://www.allrecipes.com/recipes/1058/fruits-and-vegetables/fruits/', 'https://www.allrecipes.com/recipes/1059/fruits-and-vegetables/vegetables/', 'https://www.allrecipes.com/ingredients-a-z-6740416', 'https://www.allrecipes.com/recipes/85/holidays-and-events/', 'https://www.allrecipes.com/recipes/1578/holidays-and-events/events-and-gatherings/', 'https://www.allrecipes.com/recipes/630/everyday-cooking/seasonal/summer/', 'https://www.allrecipes.com/recipes/11985/everyday-cooking/family-friendly/back-to-school/', 'https://www.allrecipes.com/recipes/85/holidays-and-events/', 'https://www.allrecipes.com/cuisine-a-z-6740455', 'https://www.allrecipes.com/recipes/728/world-cuisine/latin-american/mexican/', 'https://www.allrecipes.com/recipes/723/world-cuisine/european/italian/', 'https://www.allrecipes.com/recipes/695/world-cuisine/asian/chinese/', 'https://www.allrecipes.com/recipes/233/world-cuisine/asian/indian/', 'https://www.allrecipes.com/recipes/722/world-cuisine/european/german/', 'https://www.allrecipes.com/recipes/731/world-cuisine/european/greek/', 'https://www.allrecipes.com/recipes/696/world-cuisine/asian/filipino/', 'https://www.allrecipes.com/recipes/699/world-cuisine/asian/japanese/', 'https://www.allrecipes.com/cuisine-a-z-6740455', 'https://www.allrecipes.com/kitchen-tips/', 'https://www.allrecipes.com/recipes/22882/everyday-cooking/instant-pot/', 'https://www.allrecipes.com/recipes/23070/everyday-cooking/cookware-and-equipment/air-fryer/', 'https://www.allrecipes.com/recipes/253/everyday-cooking/slow-cooker/', 'https://www.allrecipes.com/food-news-trends/product-reviews/', 'https://www.allrecipes.com/recipes/88/bbq-grilling/', 'https://www.allrecipes.com/recipes/17583/everyday-cooking/cookware-and-equipment/', 'https://www.allrecipes.com/kitchen-tips/all-about-ingredients/substitutions/', 'https://www.allrecipes.com/kitchen-tips/', 'https://www.allrecipes.com/food-news-trends/', 'https://www.allrecipes.com/food-news-trends/celebrity-entertainment/', 'https://www.allrecipes.com/fast-food-8672832', 'https://www.allrecipes.com/grocery-8672835', 'https://www.allrecipes.com/food-news-trends/recalls/', 'https://www.allrecipes.com/food-news-trends/trends/', 'https://www.allrecipes.com/food-news-trends/', 'https://www.allrecipes.com/recipes/1642/everyday-cooking/', 'https://www.allrecipes.com/kitchen-tips/how-to/dinner-fix/', 'https://www.allrecipes.com/kitchen-tips/how-to/sweet-spot/', 'https://www.allrecipes.com/kitchen-tips/in-the-kitchen/', 'https://www.allrecipes.com/allstars-8661275', 'https://www.allrecipes.com/article/how-to-submit-recipes/', 'https://www.magazines.com/allrecipes-magazine.html?utm_source=allrecipes.com&utm_medium=owned&utm_campaign=i111arr1w2661', 'https://www.allrecipes.com/recipes/17562/dinner/', 'https://www.allrecipes.com/recipes/1116/fruits-and-vegetables/', 'https://www.allrecipes.com/recipes/156/bread/', 'https://www.allrecipes.com/recipes/1642/everyday-cooking/', 'https://www.allrecipes.com/recipes/17561/lunch/', 'https://www.allrecipes.com/recipes/17567/ingredients/', 'https://www.allrecipes.com/recipes/236/us-recipes/', 'https://www.allrecipes.com/recipes/76/appetizers-and-snacks/', 'https://www.allrecipes.com/recipes/77/drinks/', 'https://www.allrecipes.com/recipes/78/breakfast-and-brunch/', 'https://www.allrecipes.com/recipes/79/desserts/', 'https://www.allrecipes.com/recipes/80/main-dish/', 'https://www.allrecipes.com/recipes/81/side-dish/', 'https://www.allrecipes.com/recipes/82/trusted-brands-recipes-and-tips/', 'https://www.allrecipes.com/recipes/84/healthy-recipes/', 'https://www.allrecipes.com/recipes/85/holidays-and-events/', 'https://www.allrecipes.com/recipes/86/world-cuisine/', 'https://www.allrecipes.com/recipes/88/bbq-grilling/', 'https://www.allrecipes.com/recipes/92/meat-and-poultry/', 'https://www.allrecipes.com/recipes/93/seafood/', 'https://www.allrecipes.com/recipes/94/soups-stews-and-chili/', 'https://www.allrecipes.com/recipes/95/pasta-and-noodles/', 'https://www.allrecipes.com/recipes/96/salad/', 'https://www.allrecipes.com/ultimate-bbq-showdown-8633472', 'https://www.allrecipes.com/chef-johns-greatest-grilled-chicken-recipes-8639709', 'https://www.allrecipes.com/recipe/20144/banana-banana-bread/', 'https://www.allrecipes.com/gallery/best-strawberry-shortcake-recipes/', 'https://www.allrecipes.com/recipes/17235/everyday-cooking/allrecipes-magazine-recipes/', 'https://www.allrecipes.com/recipes-a-z-6735880', 'https://www.allrecipes.com/recipes/16791/everyday-cooking/special-collections/food-wishes/', 'https://www.allrecipes.com/recipes/16492/everyday-cooking/special-collections/allrecipes-allstars/', 'https://www.allrecipes.com/recipes/85/holidays-and-events/', 'https://www.allrecipes.com/kitchen-tips/all-about-ingredients/substitutions/', 'https://www.allrecipes.com/cajun-caviar-recipe-8678228', 'https://www.allrecipes.com/creamy-mississippi-chicken-enchiladas-recipe-8678116', 'https://www.allrecipes.com/grilled-watermelon-feta-pizza-recipe-8678147', 'https://www.allrecipes.com/search?q=Chicken', 'https://www.allrecipes.com/search?q=Smoothies', 'https://www.allrecipes.com/search?q=Banana+Bread', 'https://www.allrecipes.com/search?q=Lasagna', 'https://www.allrecipes.com/search?q=Pancakes', 'https://www.allrecipes.com/search?q=Meatloaf', 'https://www.allrecipes.com/search?q=Cookies', 'https://www.allrecipes.com/search?q=Tacos', 'https://www.allrecipes.com/everything-bagel-roast-chicken-recipe-8660307', 'https://www.allrecipes.com/country-peach-dumplings-recipe-8674716', 'https://www.allrecipes.com/chocolate-chipless-cookies-recipe-8677931', 'https://www.allrecipes.com/coffee-rubbed-steak-recipe-8675624', 'https://www.allrecipes.com/sheet-pan-halibut-with-orange-and-fennel-recipe-8597976', 'https://www.allrecipes.com/tuscan-salmon-recipe-8673342', 'https://www.allrecipes.com/bang-bang-chicken-skewers-recipe-8675636', 'https://www.allrecipes.com/cinnamon-roll-pull-apart-toast-recipe-8666857', 'https://www.allrecipes.com/copycat-chipotle-rice-recipe-8676686', 'https://www.allrecipes.com/copycat-chipotle-chicken-recipe-8676662', 'https://www.allrecipes.com/smoked-whole-snapper-recipe-8675589', 'https://www.allrecipes.com/gochujang-mayonnaise-recipe-8675610', 'https://www.allrecipes.com/frito-corn-salad-recipe-8666912', 'https://www.allrecipes.com/cowboy-colada-recipe-8666608', 'https://www.allrecipes.com/recipe/134726/chocolate-glazed-hazelnut-mousse-cake/', 'https://www.allrecipes.com/grilled-spaghetti-recipe-8675070', 'https://www.allrecipes.com/bacon-stuffed-french-toast-sliders-recipe-8674932', 'https://www.allrecipes.com/easy-eggs-benedict-breakfast-sliders-recipe-8674912', 'https://www.allrecipes.com/ultimate-cowboy-breakfast-sliders-recipe-8674868', 'https://www.allrecipes.com/matcha-martini-recipe-8659374', 'https://www.allrecipes.com/peach-and-blueberry-feta-salad-recipe-8674131', 'https://www.allrecipes.com/copycat-costco-chicken-bake-recipe-8674763', 'https://www.allrecipes.com/copycat-choco-tacos-recipe-8660298', 'https://www.allrecipes.com/limoncello-sunrise-recipe-8673768', 'https://www.allrecipes.com/hamburger-bun-bread-pudding-recipe-8674069', 'https://www.allrecipes.com/feta-and-spinach-stuffed-chicken-breasts-recipe-8653824', 'https://www.allrecipes.com/buffalo-chicken-pizza-rolls-recipe-8653775', 'https://www.allrecipes.com/gallery/best-peach-dessert-recipes/', 'https://www.allrecipes.com/best-chef-john-ice-cream-recipes-8672733', 'https://www.allrecipes.com/recipe/264320/chef-johns-strawberry-semifreddo/', 'https://www.allrecipes.com/lemon-coconut-cake-recipe-8665280', 'https://www.allrecipes.com/chocolate-funfetti-cake-recipe-8671609', 'https://www.allrecipes.com/granola-cups-recipe-8669258', 'https://www.allrecipes.com/4-ingredient-hamburger-casserole-recipe-8671683', 'https://www.allrecipes.com/salmon-caesar-salad-recipe-8667191', 'https://www.allrecipes.com/couscous-chicken-soup-recipe-8671629', 'https://www.allrecipes.com/new-york-style-crumb-cake-recipe-8667166', 'https://www.allrecipes.com/chicken-soup-with-pearl-couscous-recipe-8671625', 'https://www.allrecipes.com/strawberry-balsamic-pork-chops-recipe-8671638', 'https://www.allrecipes.com/crustless-grilled-cheese-recipe-8670392', 'https://www.allrecipes.com/easy-puff-pastry-cheese-danish-recipe-8669478', 'https://www.allrecipes.com/strawberry-mousse-shooters-recipe-8670298', 'https://www.allrecipes.com/million-dollar-deviled-eggs-recipe-8669008', 'https://www.allrecipes.com/recipe/237477/peach-and-goat-cheese-tartine/', 'https://www.allrecipes.com/ultimate-pool-sandwich-recipe-8653433', 'https://www.allrecipes.com/bbq-beans-recipe-8653439', 'https://www.allrecipes.com/triple-seared-whiskey-burger-recipe-8668974', 'https://www.allrecipes.com/lemon-cheesecake-creme-brulee-croissants-recipe-8668473', 'https://www.allrecipes.com/the-viral-crookie-recipe-8668574', 'https://www.allrecipes.com/flat-croissant-with-nutella-and-berries-recipe-8668537', 'https://www.allrecipes.com/beef-and-pineapple-stir-fry-recipe-8667710', 'https://www.allrecipes.com/summer-meat-slaw-recipe-8666307', 'https://www.allrecipes.com/olive-boursin-spread-recipe-8665737', 'https://www.allrecipes.com/easy-buffalo-chicken-salad-recipe-8665710', 'https://www.allrecipes.com/recipe/222391/peach-brulee-burrata-bruschetta/', 'https://www.allrecipes.com/beef-enchilada-bake-recipe-8660926', 'https://www.allrecipes.com/puff-pastry-ham-and-broccoli-quiche-recipe-8665973', 'https://www.allrecipes.com/shallot-and-chive-boursin-dip-recipe-8665981', 'https://www.allrecipes.com/smoked-salmon-dip-recipe-8665771', 'https://www.allrecipes.com/simple-roasted-lamb-breast-recipe-8662926', 'https://www.facebook.com/allrecipes', 'https://www.instagram.com/allrecipes/', 'https://www.pinterest.com/allrecipes/', 'https://www.tiktok.com/@allrecipes', 'https://www.youtube.com/user/allrecipes/videos', 'https://twitter.com/Allrecipes', 'https://flipboard.com/@Allrecipes', 'https://www.allrecipes.com/recipes/17562/dinner/', 'https://www.allrecipes.com/recipes/', 'https://www.allrecipes.com/recipes/17567/ingredients/', 'https://www.allrecipes.com/recipes/85/holidays-and-events/', 'https://www.allrecipes.com/recipes/86/world-cuisine/', 'https://www.allrecipes.com/kitchen-tips/', 'https://www.allrecipes.com/food-news-trends/', 'https://www.allrecipes.com/recipes/1642/everyday-cooking/', 'https://www.dotdashmeredith.com/brands/food-drink/allrecipes']\n"
          ]
        }
      ]
    },
    {
      "cell_type": "code",
      "source": [
        "# Función para procesar una página web de receta\n",
        "def process_web_page(url):\n",
        "    print(f\"Procesando la receta: {url}\")\n",
        "    response = requests.get(url)\n",
        "\n",
        "    if response.status_code == 200:\n",
        "        print(\"Receta cargada exitosamente.\")\n",
        "    else:\n",
        "        print(f\"Error al acceder a la receta: {response.status_code}\")\n",
        "        return {}\n",
        "\n",
        "    soup = BeautifulSoup(response.text, 'html.parser')\n",
        "\n",
        "    try:\n",
        "        name = soup.find('h1').text.strip()\n",
        "    except AttributeError:\n",
        "        name = None\n",
        "\n",
        "    try:\n",
        "        description = soup.find('p', class_=\"lead\").text.strip()\n",
        "    except AttributeError:\n",
        "        description = None\n",
        "\n",
        "    ingredients = [item.text.strip() for item in soup.find_all('li', class_=\"ingredients-item\")]\n",
        "    steps = [item.text.strip() for item in soup.find_all('li', class_=\"instructions-section-item\")]\n",
        "\n",
        "    print(f\"Receta '{name}' procesada con éxito.\")\n",
        "\n",
        "    return {\n",
        "        'name': name,\n",
        "        'description': description,\n",
        "        'ingredients': ingredients,\n",
        "        'steps': steps\n",
        "    }"
      ],
      "metadata": {
        "id": "YtCI_ZPXj4FP"
      },
      "execution_count": null,
      "outputs": []
    },
    {
      "cell_type": "code",
      "source": [
        "# Lista para almacenar los datos extraídos de cada página web\n",
        "all_data = []\n",
        "\n",
        "# Iterar sobre todas las URLs\n",
        "for url in urls:\n",
        "    data = process_web_page(url)\n",
        "    all_data.append(data)\n",
        "\n",
        "# Crear un DataFrame con todos los datos\n",
        "df = pd.DataFrame(all_data)\n"
      ],
      "metadata": {
        "colab": {
          "base_uri": "https://localhost:8080/"
        },
        "id": "Nr-DsnBXiI1e",
        "outputId": "5d1c0d84-0be3-4b8a-84f7-8d57a0bf3e47"
      },
      "execution_count": null,
      "outputs": [
        {
          "output_type": "stream",
          "name": "stdout",
          "text": [
            "Accediendo a la página de recetas...\n",
            "Página de recetas cargada exitosamente.\n",
            "Se encontraron 0 enlaces de recetas.\n"
          ]
        }
      ]
    }
  ]
}