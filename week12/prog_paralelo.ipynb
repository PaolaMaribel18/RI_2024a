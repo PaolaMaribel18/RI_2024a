{
  "nbformat": 4,
  "nbformat_minor": 0,
  "metadata": {
    "colab": {
      "provenance": [],
      "mount_file_id": "1ewCeOcn5CDZTpuECCOjSllNcrMMa8q2y",
      "authorship_tag": "ABX9TyON/Ee19/sOwuBhlxeCzgIZ",
      "include_colab_link": true
    },
    "kernelspec": {
      "name": "python3",
      "display_name": "Python 3"
    },
    "language_info": {
      "name": "python"
    }
  },
  "cells": [
    {
      "cell_type": "markdown",
      "metadata": {
        "id": "view-in-github",
        "colab_type": "text"
      },
      "source": [
        "<a href=\"https://colab.research.google.com/github/PaolaMaribel18/RI_2024a/blob/main/week12/prog_paralelo.ipynb\" target=\"_parent\"><img src=\"https://colab.research.google.com/assets/colab-badge.svg\" alt=\"Open In Colab\"/></a>"
      ]
    },
    {
      "cell_type": "markdown",
      "source": [
        "#Práctica de Laboratorio de RI sobre programación en paralelo"
      ],
      "metadata": {
        "id": "VjS0a3uBfLwb"
      }
    },
    {
      "cell_type": "markdown",
      "source": [
        "Se usa la libreria multiprocessing"
      ],
      "metadata": {
        "id": "ZoUDGjy7fbqQ"
      }
    },
    {
      "cell_type": "code",
      "execution_count": 18,
      "metadata": {
        "id": "xNrlFzg9fIqR"
      },
      "outputs": [],
      "source": [
        "from multiprocessing import Pool, TimeoutError\n",
        "from random import randrange\n",
        "import time\n",
        "import os\n",
        "import numpy as np\n",
        "import pandas as pd\n",
        "from gensim.models import Word2Vec\n",
        "import tensorflow as tf\n",
        "import gensim.downloader as api\n"
      ]
    },
    {
      "cell_type": "markdown",
      "source": [
        "Se define una funcion f"
      ],
      "metadata": {
        "id": "67eVZlI3hDSO"
      }
    },
    {
      "cell_type": "code",
      "source": [
        "def f(x):\n",
        "    time.sleep(randrange(1, 10))\n",
        "    return x*x"
      ],
      "metadata": {
        "id": "ZK6OqY7EhFJ0"
      },
      "execution_count": 12,
      "outputs": []
    },
    {
      "cell_type": "markdown",
      "source": [
        "Se define un iterable x"
      ],
      "metadata": {
        "id": "x7g53iEphYJD"
      }
    },
    {
      "cell_type": "code",
      "source": [
        "def mq(x):\n",
        "    for i in range (1, len(x)):\n",
        "        if x[i] < x[i-1]:\n",
        "            print('false')"
      ],
      "metadata": {
        "id": "gLmiBumHhLzl"
      },
      "execution_count": 13,
      "outputs": []
    },
    {
      "cell_type": "code",
      "source": [
        "# Load pre-trained Word2Vec model\n",
        "word2vec_model = api.load('word2vec-google-news-300')"
      ],
      "metadata": {
        "colab": {
          "base_uri": "https://localhost:8080/"
        },
        "id": "pXkISgant0A6",
        "outputId": "a93d4c57-8b80-4c83-a41a-52920de210d4"
      },
      "execution_count": 19,
      "outputs": [
        {
          "output_type": "stream",
          "name": "stdout",
          "text": [
            "[==================================================] 100.0% 1662.8/1662.8MB downloaded\n"
          ]
        }
      ]
    },
    {
      "cell_type": "code",
      "source": [
        "def generate_word2vec_embeddings(text):\n",
        "    embeddings = []\n",
        "    tokens = text.lower().split()\n",
        "    word_vectors = [word2vec_model[word] for word in tokens if word in word2vec_model]\n",
        "    if word_vectors:\n",
        "      embeddings.append(np.mean(word_vectors, axis=0))\n",
        "    else:\n",
        "            embeddings.append(np.zeros(word2vec_model.vector_size))\n",
        "    return np.array(embeddings)"
      ],
      "metadata": {
        "id": "bQ4dF4uksplZ"
      },
      "execution_count": 20,
      "outputs": []
    },
    {
      "cell_type": "code",
      "source": [
        "def print10(x):\n",
        "    print(x[:100])"
      ],
      "metadata": {
        "id": "P5ioA0wbumI1"
      },
      "execution_count": 21,
      "outputs": []
    },
    {
      "cell_type": "code",
      "source": [
        "if __name__ == '__main__':\n",
        "    #word2vec_model = api.load('word2vec-google-news-300')\n",
        "    df=pd.read_csv('/content/drive/MyDrive/Colab Notebooks/week11/data/podcastdata_dataset.csv')\n",
        "    corpus=df['text']\n",
        "    # start 4 worker processes\n",
        "    pool=Pool(processes=8)\n",
        "    embeddings=pool.map(print10, corpus [:319]) # :4 cantidad de procesos a ejecutar\n",
        "    print(embeddings)\n",
        "    df['embeddings']=embeddings\n",
        "    df.to_csv('/content/drive/MyDrive/Colab Notebooks/week11/data/podcastdata_dataset_embeddings.csv')\n"
      ],
      "metadata": {
        "colab": {
          "base_uri": "https://localhost:8080/"
        },
        "id": "lQVE4j1Lf5FQ",
        "outputId": "53819c44-adec-4ff2-94e8-a280bf7ea206"
      },
      "execution_count": 31,
      "outputs": [
        {
          "output_type": "stream",
          "name": "stderr",
          "text": [
            "/usr/lib/python3.10/multiprocessing/popen_fork.py:66: RuntimeWarning: os.fork() was called. os.fork() is incompatible with multithreaded code, and JAX is multithreaded, so this will likely lead to a deadlock.\n",
            "  self.pid = os.fork()\n"
          ]
        },
        {
          "output_type": "stream",
          "name": "stdout",
          "text": [
            "As part of MIT course 6S099, Artificial General Intelligence, I've gotten the chance to sit down wit\n",
            "The following is a conversation with Jürgen Schmidhuber. He's the co director of the CS Swiss AI LabAs part of MIT course 6S099 on artificial general intelligence, I got a chance to sit down with Chri\n",
            "\n",
            "The following is a conversation with Ariel Vinales. He's a senior research scientist at Google DeepM\n",
            "The following is a conversation with Regina Barzilay. She's a professor at MIT and a world class resThe following is a conversation with Chris Latner. Currently, he's a senior director at Google worki\n",
            "What difference between biological neural networks and artificial neural networks is most mysteriousThe following is a conversation with Leonard Susskind. He's a professor of theoretical physics at StThe following is a conversation with Thomas Sanholm. He's a professor at CMU and co creator of LabraThe following is a conversation with Kevin Scott, the CTO of Microsoft. Before that, he was the seniYou've studied the human mind, cognition, language, vision, evolution, psychology, from child to adu\n",
            "\n",
            "\n",
            "\n",
            "The following is a conversation with Peter Norvig. He's the Director of Research at Google and the cThe following is a conversation with Tommaso Poggio. He's a professor at MIT and is a director of th\n",
            "\n",
            "The following is a conversation with Kyle Vogt. He's the president and the CTO of Cruise Automation,\n",
            "\n",
            "The following is a conversation with Gary Marcus. He's a professor emeritus at NYU, founder of Robus\n",
            "The following is a conversation with Vladimir Vapnik. He's the co inventor of support vector machine\n",
            "The following is a conversation with George Hotz. He's the founder of Kama AI, a machine learning baThe following is a conversation with David Feroci. He led the team that built Watson, the IBM questiThe following is a conversation with Kyle Vogt. He's the president and the CTO of Cruise Automation,The following is a conversation with Rajat Manga. He's an engineer and director of Google, leading t\n",
            "\n",
            "The following is a conversation with Guido van Rossum, creator of Python, one of the most popular prThe following is a conversation with Paola Arlotta. She's a professor of stem cell and regenerative \n",
            "\n",
            "\n",
            "\n",
            "The following is a conversation with Michael Kearns. He's a professor at the University of Pennsylva\n",
            "The following is a conversation with S. James Gates, Jr. He's a theoretical physicist and professor The following is a conversation with Michio Kaku. He's a theoretical physicist, futurist, and profesThe following is a conversation with Leslie Kaelbling. She is a roboticist and professor at MIT. SheThe following is a conversation with Keoki Jackson. He's the CTO of Lockheed Martin, a company that The following is a conversation with Gavin Miller, he's the head of Adobe Research. Adobe has empowe\n",
            "The following is a conversation with Jeff Atwood. He is the cofounder of Stack Overflow and Stack ExThe following is a conversation with Jim Keller, legendary microprocessor engineer who has worked at\n",
            "\n",
            "\n",
            "\n",
            "\n",
            "The following is a conversation with Melanie Mitchell. She's a professor of computer science at Port\n",
            "The following is a conversation with David Newman. She's the Apollo Program Professor at MIT and the\n",
            "\n",
            "\n",
            "The following is a conversation with Gary Kasparov. He's considered by many to be the greatest chessThe following is a conversation with Eric Weinstein. He's a mathematician, economist, physicist, andThe following is a conversation with Rosalind Picard. She's a professor at MIT, director of the EffeThe following is a conversation with Pamela McCordick. She's an author who has written on the historThe following is a conversation with Eric Schmidt. He was the CEO of Google for 10 years and a chairThe following is a conversation with Vladimir Vapnik, part two, the second time we spoke on the podc\n",
            "\n",
            "\n",
            "\n",
            "The following is a conversation with Donald Knuth, one of the greatest and most impactful computer sThe following is a conversation with Gilbert Strang. He's a professor of mathematics at MIT and perh\n",
            "\n",
            "The following is a conversation with Sean Carroll, Part 2, the second time we've spoken on the podcaThe following is a conversation with Greg Brockman. He's the cofounder and CTO of OpenAI, a world cl\n",
            "The following is a conversation with Stuart Russell. He's a professor of computer science at UC BerkThe following is a conversation with Jeff Hawkins. He's the founder of the Redwood Center for Theore\n",
            "The following is a conversation with Jeremy Howard. He's the founder of FastAI, a research instituteThe following is a conversation with Peter Abbeel. He's a professor at UC Berkeley and the director \n",
            "\n",
            "\n",
            "The following is a conversation with Scott Aaronson, a professor at UT Austin, director of its QuantThe following is a conversation with Yann LeCun. He's considered to be one of the fathers of deep le\n",
            "The following is a conversation with Stephen Kotkin, a professor of history at Princeton University \n",
            "\n",
            "\n",
            "The following is a conversation with Andrew Ng, one of the most impactful educators, researchers, inThe following is a conversation with Vijay Kumar. He's one of the top roboticists in the world, a pr\n",
            "\n",
            "\n",
            "\n",
            "The following is a conversation with Michael I. Jordan, a professor at Berkeley and one of the most The following is a conversation with Francois Chollet. He's the creator of Keras, which is an open sThe following is a conversation with Elon Musk. He's the CEO of Tesla, SpaceX, Neuralink, and a cofo\n",
            "\n",
            "\n",
            "The following is a conversation with Grant Sanderson. He's a math educator and creator of 3Blue1BrowThe following is a conversation with Noam Chomsky. He's truly one of the great minds of our time andThe following is a conversation with Bjarne Stroustrup. He is the creator of C++, a programming lang\n",
            "The following is a conversation with Ian Goodfellow. He's the author of the popular textbook on deepThe following is a conversation with Colin Angle. He's the CEO and co founder of iRobot, a robotics The following is a conversation with Vitalik Buterin, co creator of and author of the white paper thThe following is a conversation with Marcus Hutter, senior research scientist at Google DeepMind. Th\n",
            "The following is a conversation with Daniel Kahneman, winner of the Nobel Prize in Economics for his\n",
            "The following is a conversation with Sean Carroll. He's a theoretical physicist at Caltech specializ\n",
            "\n",
            "\n",
            "The following is a conversation with Elon Musk, Part 2, the second time we spoke on the podcast, witThe following is a conversation with Ray Dalio. He's the founder, co chairman, and co chief investme\n",
            "\n",
            "\n",
            "The following is a conversation with Anca Drogon, a professor at Berkeley working on human robot intThe following is a conversation with Dmitry Korkin. He's a professor of bioinformatics and computati\n",
            "\n",
            "The following is a conversation with Yosha Bach, VP of Research at the AI Foundation, with a historyThe following is a conversation with John Hopfield, professor at Princeton, whose life's work weavedThe following is a conversation with Ayana Howard. She's a roboticist, professor Georgia Tech, and dThe following is a conversation with Kai Fu Lee. He's the chairman and CEO of Cinovation Ventures th\n",
            "\n",
            "\n",
            "\n",
            "\n",
            "\n",
            "The following is a conversation with Whitney Cummings. She's a standup comedian, actor, producer, wrThe following is a conversation with Stephen Pressfield, author of several powerful nonfiction and hThe following is a conversation with Chris Sampson. He was a CTO of the Google self driving car teamThe following is a conversation with Simon Sinek, author of several books, including Start With Why,\n",
            "The following is a conversation with Paul Krugman, Nobel Prize winner in economics, professor at CUNThe following is a conversation with Jack Dorsey, co founder and CEO of Twitter and founder and CEO \n",
            "The following is a conversation with Judea Pearl, professor at UCLA and a winner of the Turing AwardThe following is a conversation with Alex Garland, writer and director of many imaginative and philoThe following is a conversation with Christos Goudreau, Vice President of Engineering at Google and \n",
            "\n",
            "The following is a conversation with Richard Karp, a professor at Berkeley and one of the most impor\n",
            "\n",
            "\n",
            "\n",
            "\n",
            "The following is a conversation with Gustav Sorenstrom. He's the chief research and development offiThe following is a conversation with Nick Bostrom, a philosopher at University of Oxford and the dir\n",
            "The following is a conversation with Ben Goertzel, one of the most interesting minds in the artificiThe following is a conversation with Harry Cliff, a particle physicist at the University of CambridgThe following is a conversation with Anne Drouin, writer, producer, director, and one of the most imThe following is a conversation with Rohit Prasad. He's the vice president and head scientist of AmaThe following is a conversation with Ian Hutchinson, a nuclear engineer and plasma physicist at MIT.\n",
            "\n",
            "\n",
            "The following is a conversation with David Chalmers. He's a philosopher and cognitive scientist spec\n",
            "\n",
            "\n",
            "\n",
            "The following is a conversation with David Patterson, touring award winner and professor of computerThe following is a conversation with William McCaskill. He's a philosopher, ethicist, and one of the\n",
            "The following is a conversation with Daphne Koller, a professor of computer science at Stanford UnivThe following is a conversation with Lee Smolin. He's a theoretical physicist, co inventor of loop qThe following is a conversation with Michael Stevens, the creator of Vsauce, one of the most popularThe following is a conversation with Manolis Kellis. He's a professor at MIT and head of the MIT Com\n",
            "\n",
            "\n",
            "\n",
            "\n",
            "\n",
            "The following is a conversation with Eugenia Kuida, cofounder of Replika, which is an app that allowThe following is a conversation with Chris Latner, his second time on the podcast. He's one of the mThe following is a conversation with Bob Langer, professor at MIT, and one of the most cited researc\n",
            "The following is a conversation with Roger Penrose, physicist, mathematician, and philosopher at Uni\n",
            "The following is a conversation with Commander David Fravor, who was a Navy pilot for 18 years and cThe following is a conversation with George Hotz, AKA Geohot, his second time on the podcast. He's tThe following is a conversation with Ilya Sotskever, cofounder and chief scientist of OpenAI, one ofThe following is a conversation with Sebastian Thrun. He's one of the greatest roboticists, computerThe following is a conversation with Russ Tedrick, a roboticist and professor at MIT and vice presid\n",
            "\n",
            "The following is a conversation with Manolis Kellis, his second time on the podcast. He's a professoThe following is a conversation with Manolis Kellis, his third time on the podcast. He is a professo\n",
            "\n",
            "\n",
            "\n",
            "\n",
            "The following is a conversation with Dilip George, a researcher at the intersection of Neuroscience The following is a conversation with Eric Weinstein, the third time we've spoken on this podcast. He\n",
            "\n",
            "The following is a conversation with Sarah Seager, a planetary scientist at MIT known for her work o\n",
            "\n",
            "The following is a conversation with Charles Isbell, Dean of the College of Computing at Georgia Tec\n",
            "The following is a conversation with Stephen Wolfram, his second time on the podcast. He's a compute\n",
            "The following is a conversation with Ryan Hall, one of the most insightful minds and systems thinkerThe following is a conversation with Matt Botmanek, Director of Neuroscience Research at DeepMind. HThe following is a conversation with Dawn Song, a professor of computer science at UC Berkeley with \n",
            "The following is a conversation with David Silver, who leads the Reinforcement Learning Research GroThe following is a conversation with Sheldon Solomon, a social psychologist, a philosopher, co devel\n",
            "\n",
            "The following is a conversation with James Gosling, the founder and lead designer behind the Java prThe following is a conversation with Richard Dawkins, an evolutionary biologist and author of The Se\n",
            "\n",
            "\n",
            "The following is a conversation with Joe Rogan that we recorded after my recent appearance on his poThe following is a conversation with Eric Weinstein, the second time we've spoken on this podcast, hThe following is a conversation with Peter Singer, professor of bioethics at Princeton University, b\n",
            "The following is a conversation with Dan Carlin, host of Hardcore History and Common Sense Podcasts.\n",
            "\n",
            "The following is a conversation with Erik Brynjolfsson. He's an economics professor at Stanford and \n",
            "\n",
            "The following is a conversation with Grant Sanderson, his second time on the podcast. He's known to The following is a conversation with Sergei Levine, a professor at Berkeley and a world class researThe following is a conversation with Stephen Schwarzman, CEO and cofounder of Blackstone, one of theThe following is a conversation with Stephen Wolfram, a computer scientist, mathematician, and theor\n",
            "\n",
            "The following is a conversation with Michael Malice, an anarchist, political thinker, author, and a \n",
            "\n",
            "\n",
            "The following is a conversation with Dan Kokotov, VP of engineering at rev.ai, which is by many metrThe following is a conversation with Alex Filipenko, an astrophysicist and professor of astronomy fr\n",
            "\n",
            "The following is a conversation with David Eagleman, a neuroscientist and one of the great science cThe following is a conversation with Manolis Kellis, his fourth time on the podcast. He's a professo\n",
            "The following is a conversation with Sirtesh Karaman, a professor at MIT, co founder of the autonomo\n",
            "The following is a conversation with Jason Calacanis, who's an entrepreneur, investor, author of AngThe following is a conversation with Brian Kernighan, a professor of computer science at Princeton U\n",
            "The following is a conversation with Lisa Feldman Barrett, a professor of psychology at Northeastern\n",
            "\n",
            "\n",
            "\n",
            "The following is a conversation with Dan Gable from two years ago. I did not previously publish thisThe following is a conversation with Yaron Brook, one of the best known objectivist philosophers andThe following is a conversation with Francois Chollet, his second time on the podcast. He's both a w\n",
            "The following is a conversation with Jim Keller, his second time in the podcast. Jim is a legendary The following is a conversation with John Clark. He's a friend, a Brazilian jiu jitsu black belt, foThe following is a conversation with Jitendra Malik, a professor at Berkeley and one of the seminal The following is a conversation with Kate Darling, a researcher at MIT, interested in social robotic\n",
            "\n",
            "\n",
            "The following is a conversation with Scott Aaronson, his second time on the podcast. He is a profess\n",
            "\n",
            "\n",
            "The following is a conversation with Andrew Huberman, a neuroscientist at Stanford, working to under\n",
            "\n",
            "The following is a conversation with Dmitry Korkin, his second time in the podcast. He's a professorThe following is a conversation with Eric Weinstein, his fourth time on the podcast. Both sadness anThe following is a conversation with Michael Littman, a computer science professor at Brown UniversiThe following is a conversation with Carl Friston, one of the greatest neuroscientists in history. C\n",
            "\n",
            "\n",
            "\n",
            "The following is a conversation with Andrew Huberman, his second time on the podcast. He's a neuroscThe following is a conversation with Lisa Feldman Barrett, her second time on the podcast. She's a nThe following is a conversation with Avi Loeb, an astrophysicist, astronomer, and cosmologist at Har\n",
            "The following is a conversation with Anthony Pompliano, entrepreneur, technology investor, prolific The following is a conversation with Sergei Nazarov, CEO of Chainlink, which is a decentralized Orac\n",
            "The following is a conversation with Daniel Schmachtenberger, a founding member of the Consilience P\n",
            "The following is a conversation with Charles Hoskinson, founder of Cardano, co founder of Ethereum, The following is a conversation with Matthew Johnson, a professor of psychiatry and behavioral scien\n",
            "\n",
            "\n",
            "\n",
            "\n",
            "The following is a conversation with Ryan Schiller, creator of Librex, an anonymous discussion feed The following is a conversation with Josh Barnett, one of the greatest fighters and submission wrestThe following is a conversation with Rob Reed, entrepreneur, author, and host of the After On Podcas\n",
            "The following is a conversation with Brett Weinstein, evolutionary biologist, author, cohost of the The following is a conversation with Max Tegmark, his second time on the podcast. In fact, the previ\n",
            "\n",
            "\n",
            "The following is a conversation with Michael Mina. He's a professor at Harvard doing research on inf\n",
            "The following is a conversation with John Donoher, widely acknowledged as one of the greatest coacheThe following is a conversation with Tim Dillon, a standup comedian who is fearless in challenging t\n",
            "\n",
            "\n",
            "The following is a conversation with Clara Souza Silva, a quantum astrochemist at Harvard specializiThe following is a conversation with Dimitri Dolgov, the CTO of Waymo, which is an autonomous drivinThe following is a conversation with Natalia Bailey, a rocket scientist and spacecraft propulsion en\n",
            "\n",
            "The following is a conversation with Nick Carter, who is a partner at Castle Island Ventures, cofounThe following is a conversation with Charles Isbell and Michael Whitman. Charles is the Dean of the The following is a conversation with Zev Weinstein, a young man with a brilliant, bold and hopeful m\n",
            "The following is a conversation with Yosha Bach, his second time on the podcast. Yosha is one of theThe following is a conversation with Konstantin Batygin, planetary astrophysicist at Caltech, intere\n",
            "\n",
            "The following is a conversation with Barry Barish, a theoretical physicist at Caltech and the winnerThe following is a conversation with Cal Newport. He's a friend and someone who's writing, like his \n",
            "\n",
            "The following is a conversation with Rick Doblin, founder and executive director of the Multidiscipl\n",
            "\n",
            "The following is a conversation with Po Shen Lou, a professor of mathematics at Carnegie Mellon Univ\n",
            "The following is a conversation with Jed Buchwald, a professor of history and a philosopher of scien\n",
            "\n",
            "The following is a conversation with Anya Fernald, cofounder of Belcampo Farms, that was founded witThe following is a conversation with Wojciech Zaremba, cofounder of OpenAI, which is one of the top \n",
            "\n",
            "The following is a conversation with Richard Crabe, founder of Numeri, which is a crowdsourced hedge\n",
            "The following is a conversation with Yeonmi Park, a North Korean defector, human rights activist, an\n",
            "The following is a conversation with Diana Walsh Basolka, a professor of philosophy and religion at The following is a conversation with Tyler Cohen, an economist at George Mason University and co creThe following is a conversation with Vincent Recaniello, professor of microbiology and immunology atThe following is a conversation with Kamran Valfa, a theoretical physicist at Harvard specializing i\n",
            "\n",
            "The following is a conversation with Sagar Anjati. He is a DC based political correspondent, host of\n",
            "\n",
            "The following is a conversation with Catherine Duclir, a professor of Planetary Science and Astronom\n",
            "\n",
            "The following is a conversation with Rodney Brooks, one of the greatest roboticists in history. He lThe following is a conversation with Jaco Willink, a retired U.S. Navy SEAL, coauthor of Extreme Own\n",
            "The following is a conversation with Zach Bitter, ultramarathon runner and coach who held multiple w\n",
            "\n",
            "The following is a conversation with Yannis Papas, a comedian who cohosted the podcast History HyenaThe following is a conversation with Brendan Eich, creator of the JavaScript programming language, c\n",
            "The following is a conversation with Michael Malice, his second time on the podcast. He's an anarchiThe following is a conversation with Silvio McCauley, a computer scientist at MIT, winner of the Tur\n",
            "The following is a conversation with Sarah Walker, an astrobiologist and theoretical physicist at ArThe following is a conversation with Jaron Lanier, a computer scientist, visual artist, philosopher,\n",
            "The following is a conversation with Eshan Mizra, research scientist at Facebook AI Research, who wo\n",
            "The following is a conversation with Ryan Hall, his second time in the podcast. He's one of the most\n",
            "\n",
            "\n",
            "The following is a conversation with Sam Harris, one of the most influential and pioneering thinkersThe following is a conversation with Roger Reeves, one of the most prolific drug smugglers in histor\n",
            "\n",
            "The following is a conversation with Jeff Hawkins, a neuroscientist seeking to understand the struct\n",
            "The following is a conversation with Robert Breedlove, someone who caught my attention and was recom\n",
            "\n",
            "\n",
            "The following is a conversation with Donald Knuth, his second time on this podcast. Don is a legendaThe following is a conversation with Ronald Sullivan, a professor at Harvard Law School known for taThe following is a conversation between me and Michael Malus. Michael is an author, anarchist, and s\n",
            "The following is a conversation with Luis and João Botala, brothers and cofounders of Fermat's LibraThe following is a conversation with Risto Michaelainen, a computer scientist at University of Texas\n",
            "The following is a conversation with Brian Johnson, founder of Kernel, a company that has developed \n",
            "\n",
            "The following is a conversation with Matt Walker, sleep scientist, professor of neuroscience and psy\n",
            "\n",
            "The following is a conversation with Brian Greene, theoretical physicist at Columbia and author of mThe following is a conversation with Michael Mallis and Yaron Brook, Michael's third time on this po\n",
            "The following is a conversation with Niels Jorgensen, a New York firefighter for over 21 years who wThe following is a conversation with Jay McClelland, a cognitive scientist at Stanford and one of thThe following is a conversation with Ben Askren, wrestler, MMA fighter, and a brilliant, opinionated\n",
            "\n",
            "The following is a conversation with George St. Pierre, considered by many to be the greatest fighte\n",
            "\n",
            "The following is a conversation with Frank Wilczek, a theoretical physicist at MIT who won the NobelThe following is a conversation with Kevin Systrom, cofounder and long time CEO of Instagram, includ\n",
            "The following is a conversation with Brian Miorescu, author of The Immortality Key, The Secret HistoThe following is a conversation with Carl Hart, department chair and professor of psychology at Colu\n",
            "The following is a conversation with Elon Musk, his third time on this, The Lex Friedman Podcast. Ye\n",
            "\n",
            "\n",
            "The following is a conversation with Travis Stevens, 2016 Olympic silver medalist in Judo and one of\n",
            "The following is a conversation with Doug Lenit, creator of Psych, a system that for close to 40 yea\n",
            "The following is a conversation with Stephen Wolfram, his third time on the podcast. He's a computerThe following is a conversation with Jeremy Suri, a historian at UT Austin, whose research interestsThe following is a conversation with Vitalik Buterin, his second time on the podcast. Vitalik is the\n",
            "Уважаемые дамы и господа! The following is a conversation with Michael Malice, his fifth time on thiHow would you, as a higher intelligence, represent yourself to a lesser intelligence? Do you think t\n",
            "\n",
            "\n",
            "The following is a conversation with Robert Cruz, a historian at Stanford, specializing in the histoThe following is a conversation with Michael Mina, his second time on the podcast. He's a professor \n",
            "\n",
            "\n",
            "\n",
            "The following is a conversation with Tom Brands, Olympic champion and world champion in freestyle wrThe following is a conversation with Jimmy Pedro, a legendary judo competitor and coach. He represenThe following is a conversation with Travis Oliphant, one of the most impactful programmers and data\n",
            "\n",
            "\n",
            "\n",
            "The following is a conversation with Steve Vasile, formerly a truck driver and now a sociologist at The following is a conversation with Peter White, a theoretical physicist at Columbia, outspoken cri\n",
            "\n",
            "The following is a conversation with Jamie Metzl, author specializing in topics of genetic engineeriI hate affirmative action. I don't just disagree with it. I don't just think it's against the 14th AThe following is a conversation with Jay Bhattacharya, Professor of Medicine, Health Policy and EconThe jury found Pfizer guilty of fraud and racketeering violations. How does Big Pharma affect your m\n",
            "The following is a conversation with David Sinclair. He's a professor in the Department of Genetics \n",
            "What are your thoughts on the ongoing war in Ukraine? How do you analyze it within your framework ab\n",
            "The following is a conversation with Jeff Schoenlein, a scientist at NIST interested in optoelectron\n",
            "The following is a conversation with Francis Collins, director of the NIH, the National Institutes oIf you could talk to Vladimir Putin once again now, what kind of things would you talk about here? W\n",
            "\n",
            "\n",
            "If you read a half hour a night, the calculation I came to is that you can read a thousand books in \n",
            "The following is a conversation with Norman Namark, a historian at Stanford specializing in genocide\n",
            "\n",
            "The following is a conversation with Jordan Ellenberg, a mathematician at University of Wisconsin anThe following is a conversation with Mark Normand, a New York comedian who has a way with words that\n",
            "Where are the darkest places you've ever gone in your life? The following is a conversation with Kar\n",
            "The following is a conversation with Neil Ferguson, one of the great historians of our time, at timehe made me think that, you know, everything was going to be reversed and okay, and anybody that mone\n",
            "\n",
            "The following is a conversation with Albert Berla, CEO of Pfizer. If you'd like to skip ahead to ourI get so passionate about it. I get so angry, you know? Because there's a saying like, oh, can you b\n",
            "\n",
            "The following is a conversation with Jo Bowler, a mathematics educator at Stanford and co founder of\n",
            "The following is a conversation with Stephen Kotkin, his second time on the podcast. Stephen is one \n",
            "\n",
            "The following is a conversation with Neal Stephenson, a legendary science fiction writer exploring iThe following is a conversation with Yoram Brook and Yoram Hazoni. This is Yoram's third time on thiWe have two tubes that are right next to each other in the throat. One is for food, drink, saliva, m\n",
            "\n",
            "There are no right answers for anything involved in art. We're all trying experiments to find a way.\n",
            "The following is a conversation with Sean Kelly, a philosopher at Harvard specializing in existentia\n",
            "\n",
            "when you imagine a song, is it the opening you imagine? No, it's kind of a, I never think opening, I\n",
            "The following is a conversation with Peter Wang, one of the most impactful leaders and developers inThe following is a conversation with Boris Sofman, who is the senior director of engineering and hea\n",
            "\n",
            "\n",
            "The following is a conversation with Brian Keating, experimental physicist at USCSD and author of LoPeople whose favorite songs are their happy songs, play it on their playlist about 175 times. The peLet's talk about free speech and censorship. You don't build a company like this unless you believe \n",
            "remember George Washington? You know how he died? Well meaning physicians bled him to death, and thiThe following is a conversation with RZA. The rapper, record producer, filmmaker, actor, writer, phi\n",
            "we can actually figure out where are the aliens out there in space time by being clever about the fe\n",
            "The following is a conversation with Ray Dalio, his second time on the podcast. He is a legendary in\n",
            "If one site is hacked, you can just unleash all hell. We have stumbled into this new era of mutually\n",
            "The following is a conversation with Yann LeCun, his second time on the podcast. He is the chief AI \n",
            "\n",
            "\n",
            "Whatever reality is, it's not what you see. What you see is just an adaptive fiction. The following If you get into the sauna the way I just described, not the two hours a day, but 30 minutes, twice aThe following is a conversation with Demis Hassabis, CEO and co founder of DeepMind, a company that \n",
            "The following is a conversation with Richard Wrangham, a biological anthropologist at Harvard specia\n",
            "The following is a conversation with Thomas Tall, founder of Legendary Entertainment, known for prod\n",
            "The universe doesn't care about your personal narrative. You can just have met the person that is gowe would come up to these rafts and these boats that were in really dire shape and people would be p\n",
            "\n",
            "\n",
            "It wasn't just a one on one. It could be Steve against the team going, we need glass instead of plas\n",
            "\n",
            "The following is a conversation with Kelsey Sharon, Canadian Forces veteran, artillery gunner who seThe following is a conversation with Lee Cronin, a chemist from University of Glasgow, who's one of \n",
            "The following is a conversation with Brian Armstrong, cofounder and CEO of Coinbase, the largest cry\n",
            "The following is a conversation with Joe Rogan, his second time on this podcast. He has inspired me Humans are fascinated by violence and you've got to ask yourself. Why is it the rash guard? Yes And Well, the source of energy at the origin of life is the reaction between carbon dioxide and hydrogen\n",
            "\n",
            "Slaves produce a surplus which the master gets. Serfs produce a surplus which the lord gets. Employe\n",
            "I don't know what it's like to be an alien. I would like to know. Two alien civilizations coexisting\n",
            "The following is a conversation with Alex Gladstein, Chief Strategy Officer at the Human Rights Foun\n",
            "\n",
            "The following is a conversation with Rabbi David Wolpe, someone who I have been a fan of for many yeI mean, I've definitely experienced moments where I didn't want to do anything but chess. I'd also s\n",
            "\n",
            "\n",
            "How are these interacting with our fighters if they are? How are they interacting with the weather a\n",
            "\n",
            "We think that self assembly, this modular reconfigurable algorithm for constructing space structuresSomething happened where they forced my hand, and this is the only time that a Soviet agent was anywI believe our official scientific worldview is incompatible with the reality of consciousness. Do yoTalking about an exciting thing for an engineer, the same Snapdragon that goes to a phone and it can\n",
            "I think that some people are deliberately trying to completely clear the cultural landscape of our pThe lesson I would want everyone to take from the story of the First World War is that human life is\n",
            "\n",
            "\n",
            "\n",
            "\n",
            "We are becoming cyborgs. Our brains are fundamentally changed. Everyone who grew up with electronicsBy the time he gets to 2045, we'll be able to multiply our intelligence many millions fold. And it'sI remember the reaction where he had drawn these characters and he was slowly moving around and like\n",
            "\n",
            "Let me ask you to this question, whether it's bell curve or any research on race differences, can thI was on the run for four months, stole $600,000. I was in Las Vegas, Nevada. One day I had stolen t\n",
            "\n",
            "You can't have a permanent war without fiat. And I also think there's a case to be made that you canthere's a broader question here, right? As we build socially and emotionally intelligent machines, w\n",
            "\n",
            "Mossad will do anything. Mossad has no qualms doing what it takes to ensure the survival of every Is\n",
            "\n",
            "Once this whole thing falls apart and we are climbing the kudzu vines that spiral up the Sears TowerThe real foundation of Marx's political philosophy was the economic argument that there would be a t\n",
            "\n",
            "\n",
            "you could be the seventh best player in the whole world, like literally seventh best player. But if you have to have the free markets in order to build prosperity. And prosperity means economic power.When we're beyond good and evil, you know, and all that's left is the will to power, then why are we\n",
            "\n",
            "\n",
            "If this is a super intelligence, if it's folding proteins and analyzing like all data sets and all wturns out that if you train a planarian and then cut their heads off, the tail will regenerate a brano reason to think that the ocean ends just beyond your horizon. And likewise, there's no reason to \n",
            "Battle not with monsters, lest ye become a monster. And if you gaze into the abyss, the abyss gazes \n",
            "\n",
            "\n",
            "at which point is the neural network a being versus a tool? The following is a conversation with Ori\n",
            "Evolutionarily, if we see a lion running at us, we didn't have time to sort of calculate the lion's \n",
            "The following is a conversation with Magnus Carlsen, the number one ranked chess player in the world\n",
            "Will there be a war between U.S. and China in the 21st century? If there is, we're finished. A war b\n",
            "[None, None, None, None, None, None, None, None, None, None, None, None, None, None, None, None, None, None, None, None, None, None, None, None, None, None, None, None, None, None, None, None, None, None, None, None, None, None, None, None, None, None, None, None, None, None, None, None, None, None, None, None, None, None, None, None, None, None, None, None, None, None, None, None, None, None, None, None, None, None, None, None, None, None, None, None, None, None, None, None, None, None, None, None, None, None, None, None, None, None, None, None, None, None, None, None, None, None, None, None, None, None, None, None, None, None, None, None, None, None, None, None, None, None, None, None, None, None, None, None, None, None, None, None, None, None, None, None, None, None, None, None, None, None, None, None, None, None, None, None, None, None, None, None, None, None, None, None, None, None, None, None, None, None, None, None, None, None, None, None, None, None, None, None, None, None, None, None, None, None, None, None, None, None, None, None, None, None, None, None, None, None, None, None, None, None, None, None, None, None, None, None, None, None, None, None, None, None, None, None, None, None, None, None, None, None, None, None, None, None, None, None, None, None, None, None, None, None, None, None, None, None, None, None, None, None, None, None, None, None, None, None, None, None, None, None, None, None, None, None, None, None, None, None, None, None, None, None, None, None, None, None, None, None, None, None, None, None, None, None, None, None, None, None, None, None, None, None, None, None, None, None, None, None, None, None, None, None, None, None, None, None, None, None, None, None, None, None, None, None, None, None, None, None, None, None, None, None, None, None, None, None, None, None, None, None, None, None, None, None, None, None, None, None, None, None, None, None, None]\n"
          ]
        }
      ]
    }
  ]
}