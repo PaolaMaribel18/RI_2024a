{
  "cells": [
    {
      "cell_type": "markdown",
      "metadata": {
        "id": "view-in-github",
        "colab_type": "text"
      },
      "source": [
        "<a href=\"https://colab.research.google.com/github/PaolaMaribel18/RI_2024a/blob/main/week08%20/exam.ipynb\" target=\"_parent\"><img src=\"https://colab.research.google.com/assets/colab-badge.svg\" alt=\"Open In Colab\"/></a>"
      ]
    },
    {
      "metadata": {
        "id": "fa630661cfe7ea84"
      },
      "cell_type": "markdown",
      "source": [
        "## Corrección del Examen de 1er bimestre"
      ],
      "id": "fa630661cfe7ea84"
    },
    {
      "metadata": {
        "id": "e27cce16d2bfb3cf"
      },
      "cell_type": "markdown",
      "source": [
        "Considere el siguiente corpus:"
      ],
      "id": "e27cce16d2bfb3cf"
    },
    {
      "metadata": {
        "ExecuteTime": {
          "end_time": "2024-06-13T15:39:32.524191Z",
          "start_time": "2024-06-13T15:39:32.506204Z"
        },
        "id": "57a28e7cef70ec31"
      },
      "cell_type": "code",
      "source": [
        "doc1 = \"Las habilidades blandas son fundamentales para el éxito en el campo de la informática. Estas habilidades fundamentales incluyen la comunicación efectiva, la capacidad de trabajar en equipo y la gestión del tiempo.\"\n",
        "doc2 = \"El desarrollo de habilidades blandas es fundamental para los informáticos, ya que estas competencias facilitan la interacción y colaboración en entornos de trabajo dinámicos.\"\n",
        "doc3 = \"En la informática, la resolución de problemas es una habilidad técnica esencial, pero combinarla con habilidades blandas como la creatividad y el pensamiento crítico puede llevar a soluciones innovadoras.\"\n",
        "doc4 = \"La empatía, por ejemplo, es una habilidad blanda que permite a los profesionales de la informática entender y anticipar las necesidades fundamentales de los usuarios, mejorando así la calidad de los productos y técnicas desarrolladas.\"\n",
        "doc5 = \"La inteligencia emocional es una habilidad blanda vital para los informáticos. Permite gestionar mejor las emociones propias y las de los demás, facilitando así un entorno de trabajo más armonioso y productivo.\"\n",
        "\n",
        "# wset es el conjunto de palabras en el corpus\n",
        "wset = set()\n",
        "# docs es el arreglo de documentos en el corpus\n",
        "docs = [doc1, doc2, doc3, doc4, doc5]"
      ],
      "id": "57a28e7cef70ec31",
      "outputs": [],
      "execution_count": null
    },
    {
      "metadata": {
        "id": "2719675b6ca2ed47"
      },
      "cell_type": "markdown",
      "source": [
        "#### 0. Preprocesamiento del corpus"
      ],
      "id": "2719675b6ca2ed47"
    },
    {
      "metadata": {
        "id": "f9347670f84cb3d3"
      },
      "cell_type": "markdown",
      "source": [
        "Considere las siguientes palabras vacías, o stop words:\n",
        "{a, así, como, con, de, del, el, en, es, estas, la, las, los, más, para, pero, por, que, son, un, una, y, ya}"
      ],
      "id": "f9347670f84cb3d3"
    },
    {
      "metadata": {
        "ExecuteTime": {
          "end_time": "2024-06-13T15:39:43.499162Z",
          "start_time": "2024-06-13T15:39:43.480261Z"
        },
        "colab": {
          "base_uri": "https://localhost:8080/"
        },
        "id": "6d34f7d0baf64b9d",
        "outputId": "cc0c65a6-ef8f-4d64-dd66-8de6f259f43c"
      },
      "cell_type": "code",
      "source": [
        "import string\n",
        "from collections import defaultdict\n",
        "\n",
        "stopw = ['la','de','y','los','las','el','en','es','para','una','estas','a','así','son','del','ya','que','pero','con','como','por','un','más']\n",
        "# stopw = []\n",
        "\n",
        "word_counts = defaultdict(int)\n",
        "for doc in docs:\n",
        "    for word in doc.lower().translate(str.maketrans('', '', string.punctuation)).split(\" \"):\n",
        "        if word not in stopw:\n",
        "            wset.add(word)\n",
        "            word_counts[word.lower()] += 1\n",
        "\n",
        "# sorted_word_count es un arreglo de términos con su respectivo conteo\n",
        "# está ordenado del término más frecuente al menos frecuente\n",
        "sorted_word_count = sorted(word_counts.items(), key=lambda item: item[1], reverse=True)\n",
        "print(sorted_word_count)"
      ],
      "id": "6d34f7d0baf64b9d",
      "outputs": [
        {
          "output_type": "stream",
          "name": "stdout",
          "text": [
            "[('habilidades', 4), ('blandas', 3), ('fundamentales', 3), ('informática', 3), ('habilidad', 3), ('informáticos', 2), ('trabajo', 2), ('blanda', 2), ('permite', 2), ('éxito', 1), ('campo', 1), ('incluyen', 1), ('comunicación', 1), ('efectiva', 1), ('capacidad', 1), ('trabajar', 1), ('equipo', 1), ('gestión', 1), ('tiempo', 1), ('desarrollo', 1), ('fundamental', 1), ('competencias', 1), ('facilitan', 1), ('interacción', 1), ('colaboración', 1), ('entornos', 1), ('dinámicos', 1), ('resolución', 1), ('problemas', 1), ('técnica', 1), ('esencial', 1), ('combinarla', 1), ('creatividad', 1), ('pensamiento', 1), ('crítico', 1), ('puede', 1), ('llevar', 1), ('soluciones', 1), ('innovadoras', 1), ('empatía', 1), ('ejemplo', 1), ('profesionales', 1), ('entender', 1), ('anticipar', 1), ('necesidades', 1), ('usuarios', 1), ('mejorando', 1), ('calidad', 1), ('productos', 1), ('técnicas', 1), ('desarrolladas', 1), ('inteligencia', 1), ('emocional', 1), ('vital', 1), ('gestionar', 1), ('mejor', 1), ('emociones', 1), ('propias', 1), ('demás', 1), ('facilitando', 1), ('entorno', 1), ('armonioso', 1), ('productivo', 1)]\n"
          ]
        }
      ],
      "execution_count": null
    },
    {
      "metadata": {
        "ExecuteTime": {
          "end_time": "2024-06-13T15:39:46.924803Z",
          "start_time": "2024-06-13T15:39:44.042794Z"
        },
        "colab": {
          "base_uri": "https://localhost:8080/"
        },
        "id": "94217c75deee9a6a",
        "outputId": "960df631-819c-4dc3-9852-b1324788a079"
      },
      "cell_type": "code",
      "source": [
        "# se repite el procesamiento anterior de conteo de palabras, integrando la actividad de Stemming\n",
        "from nltk.stem import SnowballStemmer\n",
        "\n",
        "stemmer = SnowballStemmer('spanish')\n",
        "stopw = ['la','de','y','los','lo','las','el','en','es','para','una','estas', 'esta','a','así','son','del','ya','que','pero','con','como','por','un','más','má','demá', 'par','asi']\n",
        "# stopw = []\n",
        "\n",
        "stem_docs = []\n",
        "for doc in docs:\n",
        "    sdoc = []\n",
        "    for word in doc.lower().translate(str.maketrans('', '', string.punctuation)).split(\" \"):\n",
        "        if word not in stopw:\n",
        "            sdoc.append(stemmer.stem(word))\n",
        "    stem_docs.append(sdoc)\n",
        "\n",
        "word_counts = defaultdict(int)\n",
        "for doc in docs:\n",
        "    for word in doc.lower().translate(str.maketrans('', '', string.punctuation)).split(\" \"):\n",
        "        word = stemmer.stem(word)\n",
        "        if word not in stopw:\n",
        "            wset.add(word)\n",
        "            word_counts[word.lower()] += 1\n",
        "\n",
        "sorted_word_count = sorted(word_counts.items(), key=lambda item: item[1], reverse=True)\n",
        "print(sorted_word_count)"
      ],
      "id": "94217c75deee9a6a",
      "outputs": [
        {
          "output_type": "stream",
          "name": "stdout",
          "text": [
            "[('habil', 7), ('bland', 5), ('informat', 5), ('fundamental', 4), ('trabaj', 3), ('gestion', 2), ('desarroll', 2), ('facilit', 2), ('entorn', 2), ('tecnic', 2), ('permit', 2), ('mejor', 2), ('product', 2), ('exit', 1), ('camp', 1), ('inclu', 1), ('comun', 1), ('efect', 1), ('capac', 1), ('equip', 1), ('tiemp', 1), ('competent', 1), ('interaccion', 1), ('colabor', 1), ('dinam', 1), ('resolu', 1), ('problem', 1), ('esencial', 1), ('per', 1), ('combin', 1), ('com', 1), ('creativ', 1), ('pensamient', 1), ('critic', 1), ('pued', 1), ('llev', 1), ('solucion', 1), ('innov', 1), ('empat', 1), ('ejempl', 1), ('profesional', 1), ('entend', 1), ('anticip', 1), ('neces', 1), ('usuari', 1), ('calid', 1), ('inteligent', 1), ('emocional', 1), ('vital', 1), ('emocion', 1), ('propi', 1), ('demas', 1), ('mas', 1), ('armoni', 1)]\n"
          ]
        }
      ],
      "execution_count": null
    },
    {
      "metadata": {
        "id": "d40128bb32061442"
      },
      "cell_type": "markdown",
      "source": [
        "#### 1. Determine un espacio vectorial para la representación de documentos con 10 dimensiones. Considere a las palabras a partir de su raíz, para simplificar su representación computacional."
      ],
      "id": "d40128bb32061442"
    },
    {
      "metadata": {
        "ExecuteTime": {
          "end_time": "2024-06-13T15:41:17.701334Z",
          "start_time": "2024-06-13T15:41:17.689356Z"
        },
        "colab": {
          "base_uri": "https://localhost:8080/"
        },
        "id": "fc43e15eb478008d",
        "outputId": "177ac2c7-0634-4e5e-c5ae-623d02e30c9a"
      },
      "cell_type": "code",
      "source": [
        "ev = sorted_word_count[2:11]\n",
        "ev.append(sorted_word_count[36])\n",
        "print(ev)"
      ],
      "id": "fc43e15eb478008d",
      "outputs": [
        {
          "output_type": "stream",
          "name": "stdout",
          "text": [
            "[('informat', 5), ('fundamental', 4), ('trabaj', 3), ('gestion', 2), ('desarroll', 2), ('facilit', 2), ('entorn', 2), ('tecnic', 2), ('permit', 2), ('solucion', 1)]\n"
          ]
        }
      ],
      "execution_count": null
    },
    {
      "metadata": {
        "id": "8290b51e1ceba387"
      },
      "cell_type": "markdown",
      "source": [
        "#### 2. Construya una matriz binaria de incidencias (presencia/ausencia)"
      ],
      "id": "8290b51e1ceba387"
    },
    {
      "metadata": {
        "ExecuteTime": {
          "end_time": "2024-06-13T15:41:56.979201Z",
          "start_time": "2024-06-13T15:41:56.969032Z"
        },
        "colab": {
          "base_uri": "https://localhost:8080/"
        },
        "id": "d7d2c8ff13edcdea",
        "outputId": "8d2b7088-61f2-4f1d-d992-00b531028046"
      },
      "cell_type": "code",
      "source": [
        "# ev_docs es un arreglo con la representación binaria (presencia/ausencia) de los documentos en el espacio vectorial\n",
        "ev_docs = []\n",
        "for doc in stem_docs:\n",
        "    ev_doc = []\n",
        "    for dim in ev:\n",
        "        if dim[0] in doc:\n",
        "            ev_doc.append(1)\n",
        "        else:\n",
        "            ev_doc.append(0)\n",
        "    ev_docs.append(ev_doc)\n",
        "print(ev_docs)"
      ],
      "id": "d7d2c8ff13edcdea",
      "outputs": [
        {
          "output_type": "stream",
          "name": "stdout",
          "text": [
            "[[1, 1, 1, 1, 0, 0, 0, 0, 0, 0], [1, 1, 1, 0, 1, 1, 1, 0, 0, 0], [1, 0, 0, 0, 0, 0, 0, 1, 0, 1], [1, 1, 0, 0, 1, 0, 0, 1, 1, 0], [1, 0, 1, 1, 0, 1, 1, 0, 1, 0]]\n"
          ]
        }
      ],
      "execution_count": null
    },
    {
      "metadata": {
        "id": "df83dcaee57cbd96"
      },
      "cell_type": "markdown",
      "source": [
        "#### 3. Utilizando la similitud Jaccard, determine cuáles son los documentos por recuperarse para las siguientes consultas:\n",
        "3.1. “habilidad” AND “blanda” AND “fundamental”\n",
        "\n",
        "3.2. “habilidad” AND “blanda” AND NOT “técnica”\n",
        "\n",
        "3.3. “gestión” OR “solución”"
      ],
      "id": "df83dcaee57cbd96"
    },
    {
      "metadata": {
        "ExecuteTime": {
          "end_time": "2024-06-13T15:49:06.379829Z",
          "start_time": "2024-06-13T15:49:06.358561Z"
        },
        "id": "de10645116562290"
      },
      "cell_type": "code",
      "source": [
        "# hablidad AND blanda AND fundamental\n",
        "q1 = [0,1,0,0,0,0,0,0,0,0]\n",
        "# hablidad AND blanda AND NOT técnica\n",
        "q2 = [1,1,1,1,1,1,1,0,1,1]\n",
        "# gestión OR solución\n",
        "q3 = [0,0,0,1,0,0,0,0,0,1]\n",
        "\n",
        "queries = [q1,q2,q3]\n",
        "read_queries = ['hablidad AND blanda AND fundamental', 'hablidad AND blanda AND NOT técnica', 'gestión OR solución']"
      ],
      "id": "de10645116562290",
      "outputs": [],
      "execution_count": null
    },
    {
      "metadata": {
        "id": "bdb3661f6f1addc2"
      },
      "cell_type": "markdown",
      "source": [
        "Similitud Jaccard: $JSim=|Q\\cap D|/|Q\\cup D|$"
      ],
      "id": "bdb3661f6f1addc2"
    },
    {
      "metadata": {
        "ExecuteTime": {
          "end_time": "2024-06-13T16:16:35.146806Z",
          "start_time": "2024-06-13T16:16:35.133864Z"
        },
        "id": "49a1a8bdc6157f5b"
      },
      "cell_type": "code",
      "source": [
        "def jsim(q,d):\n",
        "    c = 0\n",
        "    for i in range(len(q)):\n",
        "        # contar los elementos iguales a 1 que son comunes entre los dos conjuntos\n",
        "        if q[i] == d[i] and d[i] == 1:\n",
        "            c += 1\n",
        "    f = 0\n",
        "    for i in range(len(q)):\n",
        "        # contar los elementos iguales a 1 en cualquiera de los dos conjuntos\n",
        "        if q[i] == 1 or d[i] == 1:\n",
        "            f += 1\n",
        "    #print('c',c,'f',f)\n",
        "    return c/f"
      ],
      "id": "49a1a8bdc6157f5b",
      "outputs": [],
      "execution_count": null
    },
    {
      "metadata": {
        "ExecuteTime": {
          "end_time": "2024-06-13T16:21:58.532562Z",
          "start_time": "2024-06-13T16:21:58.508319Z"
        },
        "colab": {
          "base_uri": "https://localhost:8080/"
        },
        "id": "a72cf66d1df3ef33",
        "outputId": "de6d8a28-56bb-45be-adf4-fa462f1b7ce4"
      },
      "cell_type": "code",
      "source": [
        "for i in range(len(queries)):\n",
        "    print('-------------------------------------------------------')\n",
        "    print('QUERY: ',i,read_queries[i])\n",
        "    for j in range(0,len(ev_docs)):\n",
        "        #print(queries[i],ev_docs[j])\n",
        "        jsim_ = jsim(queries[i],ev_docs[j])\n",
        "        if jsim_ > 0:\n",
        "            print('doc',j,'Jsim',jsim_)\n",
        "            print(docs[j])"
      ],
      "id": "a72cf66d1df3ef33",
      "outputs": [
        {
          "output_type": "stream",
          "name": "stdout",
          "text": [
            "-------------------------------------------------------\n",
            "QUERY:  0 hablidad AND blanda AND fundamental\n",
            "doc 0 Jsim 0.25\n",
            "Las habilidades blandas son fundamentales para el éxito en el campo de la informática. Estas habilidades fundamentales incluyen la comunicación efectiva, la capacidad de trabajar en equipo y la gestión del tiempo.\n",
            "doc 1 Jsim 0.16666666666666666\n",
            "El desarrollo de habilidades blandas es fundamental para los informáticos, ya que estas competencias facilitan la interacción y colaboración en entornos de trabajo dinámicos.\n",
            "doc 3 Jsim 0.2\n",
            "La empatía, por ejemplo, es una habilidad blanda que permite a los profesionales de la informática entender y anticipar las necesidades fundamentales de los usuarios, mejorando así la calidad de los productos y técnicas desarrolladas.\n",
            "-------------------------------------------------------\n",
            "QUERY:  1 hablidad AND blanda AND NOT técnica\n",
            "doc 0 Jsim 0.4444444444444444\n",
            "Las habilidades blandas son fundamentales para el éxito en el campo de la informática. Estas habilidades fundamentales incluyen la comunicación efectiva, la capacidad de trabajar en equipo y la gestión del tiempo.\n",
            "doc 1 Jsim 0.6666666666666666\n",
            "El desarrollo de habilidades blandas es fundamental para los informáticos, ya que estas competencias facilitan la interacción y colaboración en entornos de trabajo dinámicos.\n",
            "doc 2 Jsim 0.2\n",
            "En la informática, la resolución de problemas es una habilidad técnica esencial, pero combinarla con habilidades blandas como la creatividad y el pensamiento crítico puede llevar a soluciones innovadoras.\n",
            "doc 3 Jsim 0.4\n",
            "La empatía, por ejemplo, es una habilidad blanda que permite a los profesionales de la informática entender y anticipar las necesidades fundamentales de los usuarios, mejorando así la calidad de los productos y técnicas desarrolladas.\n",
            "doc 4 Jsim 0.6666666666666666\n",
            "La inteligencia emocional es una habilidad blanda vital para los informáticos. Permite gestionar mejor las emociones propias y las de los demás, facilitando así un entorno de trabajo más armonioso y productivo.\n",
            "-------------------------------------------------------\n",
            "QUERY:  2 gestión OR solución\n",
            "doc 0 Jsim 0.2\n",
            "Las habilidades blandas son fundamentales para el éxito en el campo de la informática. Estas habilidades fundamentales incluyen la comunicación efectiva, la capacidad de trabajar en equipo y la gestión del tiempo.\n",
            "doc 2 Jsim 0.25\n",
            "En la informática, la resolución de problemas es una habilidad técnica esencial, pero combinarla con habilidades blandas como la creatividad y el pensamiento crítico puede llevar a soluciones innovadoras.\n",
            "doc 4 Jsim 0.14285714285714285\n",
            "La inteligencia emocional es una habilidad blanda vital para los informáticos. Permite gestionar mejor las emociones propias y las de los demás, facilitando así un entorno de trabajo más armonioso y productivo.\n"
          ]
        }
      ],
      "execution_count": null
    },
    {
      "metadata": {
        "id": "4f8b836f327288dd"
      },
      "cell_type": "code",
      "outputs": [],
      "execution_count": null,
      "source": [],
      "id": "4f8b836f327288dd"
    },
    {
      "metadata": {
        "id": "9bb0f4f00050dc6a"
      },
      "cell_type": "markdown",
      "source": [
        "#### 4. Con el mismo espacio vectorial del punto 1, construya una matriz de términos y documentos (matriz TF-IDF)."
      ],
      "id": "9bb0f4f00050dc6a"
    },
    {
      "metadata": {
        "id": "24ca205bbea581f5"
      },
      "cell_type": "markdown",
      "source": [
        "Frecuencia de término: $TF_{ij}=count(t_i,d_j)/|d_j|$\n",
        "\n"
      ],
      "id": "24ca205bbea581f5"
    },
    {
      "metadata": {
        "id": "dae62d05079b0a1e"
      },
      "cell_type": "code",
      "outputs": [],
      "execution_count": null,
      "source": [
        "def tf(term, doc):\n",
        "    return doc.count(term) / len(doc)"
      ],
      "id": "dae62d05079b0a1e"
    },
    {
      "cell_type": "markdown",
      "source": [
        "Frecuencia inversa de término: $IDF_{ij} = log(|corpus|/count(d_j,t_i))$\n"
      ],
      "metadata": {
        "id": "qf6qCaX2vxVQ"
      },
      "id": "qf6qCaX2vxVQ"
    },
    {
      "cell_type": "code",
      "source": [
        "def idf(term, docs):\n",
        "    containing_docs = sum(1 for doc in docs if term in doc)\n",
        "    return log(len(docs) / (1 + containing_docs))"
      ],
      "metadata": {
        "id": "iSGKyaqvvwdW"
      },
      "id": "iSGKyaqvvwdW",
      "execution_count": null,
      "outputs": []
    },
    {
      "cell_type": "code",
      "source": [
        "from math import log"
      ],
      "metadata": {
        "id": "GT7FKIRKwJBw"
      },
      "id": "GT7FKIRKwJBw",
      "execution_count": null,
      "outputs": []
    },
    {
      "cell_type": "code",
      "source": [
        "tfidf_docs = []\n",
        "for doc in stem_docs:\n",
        "    tfidf_doc = []\n",
        "    for term, _ in ev:\n",
        "        tfidf_value = tf(term, doc) * idf(term, stem_docs)\n",
        "        tfidf_doc.append(tfidf_value)\n",
        "    tfidf_docs.append(tfidf_doc)\n",
        "print(\"TF-IDF Matrix:\")\n",
        "for doc in tfidf_docs:\n",
        "    print(doc)"
      ],
      "metadata": {
        "id": "Amjk4RFMwBq9",
        "outputId": "888e5acc-cf1c-4da4-dd87-97fbac1affaf",
        "colab": {
          "base_uri": "https://localhost:8080/"
        }
      },
      "id": "Amjk4RFMwBq9",
      "execution_count": null,
      "outputs": [
        {
          "output_type": "stream",
          "name": "stdout",
          "text": [
            "TF-IDF Matrix:\n",
            "[-0.011395097299622162, 0.02789294391427622, 0.01394647195713811, 0.03192660148537442, 0.0, 0.0, 0.0, 0.0, 0.0, 0.0]\n",
            "[-0.015193463066162882, 0.018595295942850813, 0.018595295942850813, 0.0, 0.04256880198049923, 0.04256880198049923, 0.04256880198049923, 0.0, 0.0, 0.0]\n",
            "[-0.011395097299622162, 0.0, 0.0, 0.0, 0.0, 0.0, 0.0, 0.03192660148537442, 0.0, 0.057268170742134694]\n",
            "[-0.010724797458467918, 0.013126091253777044, 0.0, 0.0, 0.030048566103881808, 0.0, 0.0, 0.030048566103881808, 0.030048566103881808, 0.0]\n",
            "[-0.010724797458467918, 0.0, 0.013126091253777044, 0.030048566103881808, 0.0, 0.030048566103881808, 0.030048566103881808, 0.0, 0.030048566103881808, 0.0]\n"
          ]
        }
      ]
    },
    {
      "metadata": {
        "id": "4cf3c1efabaaa880"
      },
      "cell_type": "markdown",
      "source": [
        "#### 5. Calcule el vector de la consulta utilizando las mismas fórmulas de TF-IDF."
      ],
      "id": "4cf3c1efabaaa880"
    },
    {
      "metadata": {
        "id": "84a4e509395fb02a"
      },
      "cell_type": "code",
      "outputs": [],
      "execution_count": null,
      "source": [
        "queries_text = [\"habilidades blandas fundamentales\", \"habilidades técnicas\", \"solución y gestión en informática\"]\n",
        "queries_tfidf = []"
      ],
      "id": "84a4e509395fb02a"
    },
    {
      "cell_type": "code",
      "source": [
        "for query in queries_text:\n",
        "    q_terms = [stemmer.stem(word) for word in query.lower().translate(str.maketrans('', '', string.punctuation)).split(\" \") if word not in stopw]\n",
        "    q_tfidf = []\n",
        "    for term, _ in ev:\n",
        "        q_tfidf.append(q_terms.count(term) * idf(term, stem_docs))\n",
        "    queries_tfidf.append(q_tfidf)"
      ],
      "metadata": {
        "id": "Na7WOq7txAoz"
      },
      "id": "Na7WOq7txAoz",
      "execution_count": null,
      "outputs": []
    },
    {
      "cell_type": "code",
      "source": [
        "print(\"TF-IDF Vectors for Queries:\")\n",
        "for query in queries_tfidf:\n",
        "    print(query)"
      ],
      "metadata": {
        "id": "FkqCjTr8xDQg",
        "outputId": "83be724d-a188-434f-e2a5-c1a783d2a8c1",
        "colab": {
          "base_uri": "https://localhost:8080/"
        }
      },
      "id": "FkqCjTr8xDQg",
      "execution_count": null,
      "outputs": [
        {
          "output_type": "stream",
          "name": "stdout",
          "text": [
            "TF-IDF Vectors for Queries:\n",
            "[-0.0, 0.22314355131420976, 0.0, 0.0, 0.0, 0.0, 0.0, 0.0, 0.0, 0.0]\n",
            "[-0.0, 0.0, 0.0, 0.0, 0.0, 0.0, 0.0, 0.5108256237659907, 0.0, 0.0]\n",
            "[-0.1823215567939546, 0.0, 0.0, 0.5108256237659907, 0.0, 0.0, 0.0, 0.0, 0.0, 0.9162907318741551]\n"
          ]
        }
      ]
    },
    {
      "metadata": {
        "id": "9919b6ff27b500f7"
      },
      "cell_type": "markdown",
      "source": [
        "#### 6. Utilizando la similitud coseno, determine cuáles son los documentos por recuperarse para las siguientes consultas:\n",
        "6.1. “habilidades blandas fundamentales”\n",
        "\n",
        "6.2. “habilidades técnicas”\n",
        "\n",
        "6.3. “solución y gestión en informática”"
      ],
      "id": "9919b6ff27b500f7"
    },
    {
      "metadata": {
        "id": "ddfae35f1a8c519e"
      },
      "cell_type": "code",
      "outputs": [],
      "execution_count": null,
      "source": [
        "def cosine_similarity(vec1, vec2):\n",
        "    dot_product = sum(a*b for a, b in zip(vec1, vec2))\n",
        "    norm1 = sum(a*a for a in vec1) ** 0.5\n",
        "    norm2 = sum(b*b for b in vec2) ** 0.5\n",
        "    return dot_product / (norm1 * norm2)"
      ],
      "id": "ddfae35f1a8c519e"
    },
    {
      "cell_type": "code",
      "source": [
        "cosine_similarities = []\n",
        "for i, query in enumerate(queries_tfidf):\n",
        "    similarities = [cosine_similarity(query, doc) for doc in tfidf_docs]\n",
        "    cosine_similarities.append(similarities)\n",
        "    print('-------------------------------------------------------')\n",
        "    print(f'QUERY: {i+1}: {queries_text[i]}')\n",
        "    for j, sim in enumerate(similarities):\n",
        "        if sim > 0:\n",
        "            print(f'doc {j} Cosine Similarity: {sim}')\n",
        "            print(docs[j])"
      ],
      "metadata": {
        "id": "8vrAUWlJxSJO",
        "outputId": "f5a1844d-3ffe-4f9e-bf59-3f3e34433603",
        "colab": {
          "base_uri": "https://localhost:8080/"
        }
      },
      "id": "8vrAUWlJxSJO",
      "execution_count": null,
      "outputs": [
        {
          "output_type": "stream",
          "name": "stdout",
          "text": [
            "-------------------------------------------------------\n",
            "QUERY: 1: habilidades blandas fundamentales\n",
            "doc 0 Cosine Similarity: 0.6055566363307373\n",
            "Las habilidades blandas son fundamentales para el éxito en el campo de la informática. Estas habilidades fundamentales incluyen la comunicación efectiva, la capacidad de trabajar en equipo y la gestión del tiempo.\n",
            "doc 1 Cosine Similarity: 0.23319446643295597\n",
            "El desarrollo de habilidades blandas es fundamental para los informáticos, ya que estas competencias facilitan la interacción y colaboración en entornos de trabajo dinámicos.\n",
            "doc 3 Cosine Similarity: 0.23980588560907767\n",
            "La empatía, por ejemplo, es una habilidad blanda que permite a los profesionales de la informática entender y anticipar las necesidades fundamentales de los usuarios, mejorando así la calidad de los productos y técnicas desarrolladas.\n",
            "-------------------------------------------------------\n",
            "QUERY: 2: habilidades técnicas\n",
            "doc 2 Cosine Similarity: 0.4797441430723614\n",
            "En la informática, la resolución de problemas es una habilidad técnica esencial, pero combinarla con habilidades blandas como la creatividad y el pensamiento crítico puede llevar a soluciones innovadoras.\n",
            "doc 3 Cosine Similarity: 0.5489694431120771\n",
            "La empatía, por ejemplo, es una habilidad blanda que permite a los profesionales de la informática entender y anticipar las necesidades fundamentales de los usuarios, mejorando así la calidad de los productos y técnicas desarrolladas.\n",
            "-------------------------------------------------------\n",
            "QUERY: 3: solución y gestión en informática\n",
            "doc 0 Cosine Similarity: 0.37488359894281625\n",
            "Las habilidades blandas son fundamentales para el éxito en el campo de la informática. Estas habilidades fundamentales incluyen la comunicación efectiva, la capacidad de trabajar en equipo y la gestión del tiempo.\n",
            "doc 1 Cosine Similarity: 0.032624731677900004\n",
            "El desarrollo de habilidades blandas es fundamental para los informáticos, ya que estas competencias facilitan la interacción y colaboración en entornos de trabajo dinámicos.\n",
            "doc 2 Cosine Similarity: 0.7698455571877657\n",
            "En la informática, la resolución de problemas es una habilidad técnica esencial, pero combinarla con habilidades blandas como la creatividad y el pensamiento crítico puede llevar a soluciones innovadoras.\n",
            "doc 3 Cosine Similarity: 0.033549692634008754\n",
            "La empatía, por ejemplo, es una habilidad blanda que permite a los profesionales de la informática entender y anticipar las necesidades fundamentales de los usuarios, mejorando así la calidad de los productos y técnicas desarrolladas.\n",
            "doc 4 Cosine Similarity: 0.2602744493314464\n",
            "La inteligencia emocional es una habilidad blanda vital para los informáticos. Permite gestionar mejor las emociones propias y las de los demás, facilitando así un entorno de trabajo más armonioso y productivo.\n"
          ]
        }
      ]
    },
    {
      "metadata": {
        "id": "a54de9eb09c5e966"
      },
      "cell_type": "markdown",
      "source": [
        "#### 7. Ordene los documentos en función de su similitud con la consulta, de mayor a menor."
      ],
      "id": "a54de9eb09c5e966"
    },
    {
      "metadata": {
        "colab": {
          "base_uri": "https://localhost:8080/"
        },
        "id": "cb9a2e56fde5c0c8",
        "outputId": "be6d1de2-f91e-4d76-f816-da0ce44f1dc0"
      },
      "cell_type": "code",
      "outputs": [
        {
          "output_type": "stream",
          "name": "stdout",
          "text": [
            "-------------------------------------------------------\n",
            "QUERY: 1: habilidades blandas fundamentales\n",
            "doc 0 Cosine Similarity: 0.6055566363307373\n",
            "Las habilidades blandas son fundamentales para el éxito en el campo de la informática. Estas habilidades fundamentales incluyen la comunicación efectiva, la capacidad de trabajar en equipo y la gestión del tiempo.\n",
            "doc 3 Cosine Similarity: 0.23980588560907767\n",
            "La empatía, por ejemplo, es una habilidad blanda que permite a los profesionales de la informática entender y anticipar las necesidades fundamentales de los usuarios, mejorando así la calidad de los productos y técnicas desarrolladas.\n",
            "doc 1 Cosine Similarity: 0.23319446643295597\n",
            "El desarrollo de habilidades blandas es fundamental para los informáticos, ya que estas competencias facilitan la interacción y colaboración en entornos de trabajo dinámicos.\n",
            "-------------------------------------------------------\n",
            "QUERY: 2: habilidades técnicas\n",
            "doc 3 Cosine Similarity: 0.5489694431120771\n",
            "La empatía, por ejemplo, es una habilidad blanda que permite a los profesionales de la informática entender y anticipar las necesidades fundamentales de los usuarios, mejorando así la calidad de los productos y técnicas desarrolladas.\n",
            "doc 2 Cosine Similarity: 0.4797441430723614\n",
            "En la informática, la resolución de problemas es una habilidad técnica esencial, pero combinarla con habilidades blandas como la creatividad y el pensamiento crítico puede llevar a soluciones innovadoras.\n",
            "-------------------------------------------------------\n",
            "QUERY: 3: solución y gestión en informática\n",
            "doc 2 Cosine Similarity: 0.7698455571877657\n",
            "En la informática, la resolución de problemas es una habilidad técnica esencial, pero combinarla con habilidades blandas como la creatividad y el pensamiento crítico puede llevar a soluciones innovadoras.\n",
            "doc 0 Cosine Similarity: 0.37488359894281625\n",
            "Las habilidades blandas son fundamentales para el éxito en el campo de la informática. Estas habilidades fundamentales incluyen la comunicación efectiva, la capacidad de trabajar en equipo y la gestión del tiempo.\n",
            "doc 4 Cosine Similarity: 0.2602744493314464\n",
            "La inteligencia emocional es una habilidad blanda vital para los informáticos. Permite gestionar mejor las emociones propias y las de los demás, facilitando así un entorno de trabajo más armonioso y productivo.\n",
            "doc 3 Cosine Similarity: 0.033549692634008754\n",
            "La empatía, por ejemplo, es una habilidad blanda que permite a los profesionales de la informática entender y anticipar las necesidades fundamentales de los usuarios, mejorando así la calidad de los productos y técnicas desarrolladas.\n",
            "doc 1 Cosine Similarity: 0.032624731677900004\n",
            "El desarrollo de habilidades blandas es fundamental para los informáticos, ya que estas competencias facilitan la interacción y colaboración en entornos de trabajo dinámicos.\n"
          ]
        }
      ],
      "execution_count": null,
      "source": [
        "for i, similarities in enumerate(cosine_similarities):\n",
        "    ranked_docs = sorted(enumerate(similarities), key=lambda x: x[1], reverse=True)\n",
        "    print('-------------------------------------------------------')\n",
        "    print(f'QUERY: {i+1}: {queries_text[i]}')\n",
        "    for idx, sim in ranked_docs:\n",
        "        if sim > 0:\n",
        "            print(f'doc {idx} Cosine Similarity: {sim}')\n",
        "            print(docs[idx])"
      ],
      "id": "cb9a2e56fde5c0c8"
    },
    {
      "metadata": {
        "id": "8cd4938aed7cae14"
      },
      "cell_type": "markdown",
      "source": [
        "#### 8. Determine cuál es el documento más relevante para la consulta dada."
      ],
      "id": "8cd4938aed7cae14"
    },
    {
      "cell_type": "code",
      "source": [
        "most_relevant_docs = [max(enumerate(similarities), key=lambda x: x[1]) for similarities in cosine_similarities]\n",
        "for i, (idx, sim) in enumerate(most_relevant_docs):\n",
        "    print('-------------------------------------------------------')\n",
        "    print(f'Most Relevant Document for QUERY {i+1}: {queries_text[i]}')\n",
        "    print(f'doc {idx} Cosine Similarity: {sim}')\n",
        "    print(docs[idx])"
      ],
      "metadata": {
        "id": "ATotOrKTz5OJ",
        "outputId": "028a1b24-a7d1-4bb5-d13b-ed71d3af2474",
        "colab": {
          "base_uri": "https://localhost:8080/"
        }
      },
      "id": "ATotOrKTz5OJ",
      "execution_count": null,
      "outputs": [
        {
          "output_type": "stream",
          "name": "stdout",
          "text": [
            "-------------------------------------------------------\n",
            "Most Relevant Document for QUERY 1: habilidades blandas fundamentales\n",
            "doc 0 Cosine Similarity: 0.6055566363307373\n",
            "Las habilidades blandas son fundamentales para el éxito en el campo de la informática. Estas habilidades fundamentales incluyen la comunicación efectiva, la capacidad de trabajar en equipo y la gestión del tiempo.\n",
            "-------------------------------------------------------\n",
            "Most Relevant Document for QUERY 2: habilidades técnicas\n",
            "doc 3 Cosine Similarity: 0.5489694431120771\n",
            "La empatía, por ejemplo, es una habilidad blanda que permite a los profesionales de la informática entender y anticipar las necesidades fundamentales de los usuarios, mejorando así la calidad de los productos y técnicas desarrolladas.\n",
            "-------------------------------------------------------\n",
            "Most Relevant Document for QUERY 3: solución y gestión en informática\n",
            "doc 2 Cosine Similarity: 0.7698455571877657\n",
            "En la informática, la resolución de problemas es una habilidad técnica esencial, pero combinarla con habilidades blandas como la creatividad y el pensamiento crítico puede llevar a soluciones innovadoras.\n"
          ]
        }
      ]
    }
  ],
  "metadata": {
    "kernelspec": {
      "display_name": "Python 3",
      "language": "python",
      "name": "python3"
    },
    "language_info": {
      "codemirror_mode": {
        "name": "ipython",
        "version": 2
      },
      "file_extension": ".py",
      "mimetype": "text/x-python",
      "name": "python",
      "nbconvert_exporter": "python",
      "pygments_lexer": "ipython2",
      "version": "2.7.6"
    },
    "colab": {
      "provenance": [],
      "include_colab_link": true
    }
  },
  "nbformat": 4,
  "nbformat_minor": 5
}
