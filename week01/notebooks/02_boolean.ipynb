{
  "cells": [
    {
      "cell_type": "markdown",
      "metadata": {
        "id": "view-in-github",
        "colab_type": "text"
      },
      "source": [
        "<a href=\"https://colab.research.google.com/github/PaolaMaribel18/RI_2024a/blob/main/week01/notebooks/02_boolean.ipynb\" target=\"_parent\"><img src=\"https://colab.research.google.com/assets/colab-badge.svg\" alt=\"Open In Colab\"/></a>"
      ]
    },
    {
      "cell_type": "markdown",
      "source": [
        "# Boolean Search in Documents\n",
        "\n",
        "## Objective\n",
        "Expand the simple term search functionality to include Boolean search capabilities. This will allow users to perform more complex queries by combining multiple search terms using Boolean operators.\n",
        "\n",
        "## Problem Description\n",
        "You must enhance the existing search engine from the previous exercise to support Boolean operators: AND, OR, and NOT. This will enable the retrieval of documents based on the logical relationships between multiple terms.\n",
        "\n",
        "## Requirements\n",
        "\n",
        "### Step 1: Update Data Preparation\n",
        "Ensure that the documents are still loaded and preprocessed from the previous task. The data should be clean and ready for advanced querying.\n"
      ],
      "metadata": {
        "collapsed": false,
        "id": "3678b6ceab34c216"
      },
      "id": "3678b6ceab34c216"
    },
    {
      "cell_type": "code",
      "source": [
        "from google.colab import drive\n",
        "drive.mount('/content/drive')"
      ],
      "metadata": {
        "colab": {
          "base_uri": "https://localhost:8080/"
        },
        "id": "rz7t81UAKVDE",
        "outputId": "37f2d3ee-b19e-4d69-eb20-46d3cc922d3f"
      },
      "id": "rz7t81UAKVDE",
      "execution_count": 1,
      "outputs": [
        {
          "output_type": "stream",
          "name": "stdout",
          "text": [
            "Mounted at /content/drive\n"
          ]
        }
      ]
    },
    {
      "cell_type": "code",
      "source": [
        "data_directory = '/content/drive/MyDrive/ri_2024a/week1/data'\n"
      ],
      "metadata": {
        "id": "ADEEgus1Kld4"
      },
      "id": "ADEEgus1Kld4",
      "execution_count": 2,
      "outputs": []
    },
    {
      "cell_type": "code",
      "source": [
        "import os\n",
        "\n",
        "def load_documents(data_directory):\n",
        "    documents = {}\n",
        "    for filename in os.listdir(data_directory):\n",
        "        with open(os.path.join(data_directory, filename), 'r') as file:\n",
        "            content = file.read()\n",
        "            # Perform preprocessing\n",
        "            preprocessed_content = preprocess_content(content)\n",
        "            documents[filename] = preprocessed_content\n",
        "    return documents\n",
        "\n",
        "def preprocess_content(content):\n",
        "    content = content.lower()  # Convert text to lowercase\n",
        "    content = content.replace('\\n', ' ')  # Remove newline characters\n",
        "    return content"
      ],
      "metadata": {
        "id": "qagYJYhcKnZj"
      },
      "id": "qagYJYhcKnZj",
      "execution_count": 3,
      "outputs": []
    },
    {
      "cell_type": "code",
      "source": [
        "documents = load_documents(data_directory)\n"
      ],
      "metadata": {
        "id": "ax53bvPWLB_R"
      },
      "id": "ax53bvPWLB_R",
      "execution_count": 4,
      "outputs": []
    },
    {
      "cell_type": "markdown",
      "source": [
        "### Step 2: Create an Inverted Index\n",
        "\n",
        "Create an inverted index from the documents. This index maps each word to the set of document IDs in which that word appears. This facilitates word lookup in the search process.\n"
      ],
      "metadata": {
        "id": "1CbqnQS0KV30"
      },
      "id": "1CbqnQS0KV30"
    },
    {
      "cell_type": "code",
      "source": [
        "def create_inverted_index(documents):\n",
        "    inverted_index = {}\n",
        "    for doc_id, content in documents.items():\n",
        "        # Tokenize the content into words\n",
        "        words = content.split()\n",
        "        # Iterate over each word\n",
        "        for word in words:\n",
        "            # Check if the word already exists in the inverted index\n",
        "            if word in inverted_index:\n",
        "                # If yes, add the document ID to the set of IDs for that word\n",
        "                inverted_index[word].add(doc_id)\n",
        "            else:\n",
        "                # If not, create a new entry with the document ID\n",
        "                inverted_index[word] = {doc_id}\n",
        "    return inverted_index\n",
        "\n",
        "inverted_index = create_inverted_index(documents)\n"
      ],
      "metadata": {
        "id": "EsFHUImzKYQ-"
      },
      "id": "EsFHUImzKYQ-",
      "execution_count": 28,
      "outputs": []
    },
    {
      "cell_type": "markdown",
      "source": [
        "### Step 3: Implementing Boolean Search\n",
        "Enhance Input Query: Modify the function to accept complex queries that can include the Boolean operators AND, OR, and NOT.\n",
        "Implement Boolean Logic:\n",
        "AND: The document must contain all the terms. For example, python AND programming should return documents containing both \"python\" and \"programming\".\n",
        "OR: The document can contain any of the terms. For example, python OR programming should return documents containing either \"python\", \"programming\", or both.\n",
        "NOT: The document must not contain the term following NOT. For example, python NOT snake should return documents that contain \"python\" but not \"snake\"."
      ],
      "metadata": {
        "id": "hzP6B047UsGA"
      },
      "id": "hzP6B047UsGA"
    },
    {
      "cell_type": "code",
      "source": [
        "def boolean_search(query_terms, operators, inverted_index):\n",
        "    # Initialize a set to store the document IDs that match the query\n",
        "    result_set = set()\n",
        "\n",
        "    # Handle the case when the query contains only one term\n",
        "    if len(query_terms) == 1:\n",
        "        return inverted_index.get(query_terms[0], set())\n",
        "\n",
        "    # Iterate over each term-operator pair in the query\n",
        "    for i in range(len(query_terms)):\n",
        "        # Get the current term and the next operator (if it exists)\n",
        "        term = query_terms[i]\n",
        "        operator = operators[i] if i < len(operators) else None\n",
        "\n",
        "        # Perform Boolean logic based on the operator\n",
        "        if operator == \"and\":\n",
        "            # If the operator is AND, intersect the result set with the documents containing the term\n",
        "            result_set &= inverted_index.get(term, set())\n",
        "        elif operator == \"or\":\n",
        "            # If the operator is OR, union the result set with the documents containing the term\n",
        "            result_set |= inverted_index.get(term, set())\n",
        "        elif operator == \"not\":\n",
        "            # If the operator is NOT, subtract the documents containing the term from the result set\n",
        "            result_set -= inverted_index.get(term, set())\n",
        "\n",
        "    return result_set\n"
      ],
      "metadata": {
        "id": "Rs6Uvj5SWcGQ"
      },
      "id": "Rs6Uvj5SWcGQ",
      "execution_count": 68,
      "outputs": []
    },
    {
      "cell_type": "markdown",
      "source": [
        "\n",
        "### Step 4: Query Processing\n",
        "- **Parse the Query**: Implement a function to parse the input query to identify the terms and operators.\n",
        "- **Search Documents**: Based on the parsed query, implement the logic to retrieve and rank the documents according to the Boolean expressions.\n",
        "\n"
      ],
      "metadata": {
        "id": "SGIFc6IhKY31"
      },
      "id": "SGIFc6IhKY31"
    },
    {
      "cell_type": "code",
      "source": [
        "def parse_query(query):\n",
        "    # Split the query into individual terms\n",
        "    terms = query.split()\n",
        "    # Initialize lists to store terms and operators separately\n",
        "    query_terms = []\n",
        "    operators = []\n",
        "    # Iterate over each term in the query\n",
        "    for term in terms:\n",
        "        # Check if the term is an operator\n",
        "        if term.lower() in [\"and\", \"or\", \"not\"]:\n",
        "            # If it's an operator, add it to the operators list\n",
        "            operators.append(term.lower())\n",
        "        else:\n",
        "            # If it's not an operator, add it to the query terms list\n",
        "            query_terms.append(term.lower())\n",
        "    return query_terms, operators\n"
      ],
      "metadata": {
        "id": "imxE72_aPI-5"
      },
      "id": "imxE72_aPI-5",
      "execution_count": 56,
      "outputs": []
    },
    {
      "cell_type": "code",
      "source": [
        "query = \"Pride and Prejudice\"\n",
        "parsed_query = parse_query(query)\n",
        "print(\"Consulta original:\", query)\n",
        "print(\"Consulta analizada:\", parsed_query)"
      ],
      "metadata": {
        "colab": {
          "base_uri": "https://localhost:8080/"
        },
        "id": "FKw0VUqqPAAx",
        "outputId": "98b3d4b0-38e8-4464-bbfe-fe1da149f31a"
      },
      "id": "FKw0VUqqPAAx",
      "execution_count": 57,
      "outputs": [
        {
          "output_type": "stream",
          "name": "stdout",
          "text": [
            "Consulta original: Pride and Prejudice\n",
            "Consulta analizada: (['pride', 'prejudice'], ['and'])\n"
          ]
        }
      ]
    },
    {
      "cell_type": "markdown",
      "source": [
        "### Step 5: Displaying Results\n",
        "- **Output the Results**: Display the documents that match the query criteria. Include functionalities to handle queries that result in no matching documents.\n",
        "\n"
      ],
      "metadata": {
        "id": "h6FT6AHIKbnK"
      },
      "id": "h6FT6AHIKbnK"
    },
    {
      "cell_type": "code",
      "source": [
        "def display_results(results):\n",
        "    if results:\n",
        "        print(\"Query found in the following documents:\")\n",
        "        for doc in results:\n",
        "            print(\"-\", doc)\n",
        "    else:\n",
        "        print(\"Quey not found in any document.\")"
      ],
      "metadata": {
        "id": "uNqgKofYMrSR"
      },
      "id": "uNqgKofYMrSR",
      "execution_count": 70,
      "outputs": []
    },
    {
      "cell_type": "code",
      "source": [
        "simple_query = input(\"Enter the search query (type 'exit' to quit): \")\n",
        "\n",
        "while simple_query.lower() != 'exit':\n",
        "    if not simple_query:\n",
        "        print(\"Please enter a search query.\")\n",
        "    else:\n",
        "        # Parsea la consulta para obtener los términos y operadores\n",
        "        query_terms, operators = parse_query(simple_query)\n",
        "        print (query_terms, operators)\n",
        "\n",
        "        # Busca los documentos basados en la consulta\n",
        "        search_results = boolean_search (query_terms, operators, inverted_index)\n",
        "\n",
        "        # Muestra los resultados de la búsqueda\n",
        "        display_results(search_results)\n",
        "\n",
        "    # Solicita una nueva consulta al usuario\n",
        "    simple_query = input(\"Enter the search query (type 'exit' to quit): \")\n"
      ],
      "metadata": {
        "colab": {
          "base_uri": "https://localhost:8080/"
        },
        "id": "8O3ST44iKdKn",
        "outputId": "c7a66b4d-6d70-488e-8eff-2b5e0ff60b6c"
      },
      "id": "8O3ST44iKdKn",
      "execution_count": 71,
      "outputs": [
        {
          "name": "stdout",
          "output_type": "stream",
          "text": [
            "Enter the search query (type 'exit' to quit): Jekyll\n",
            "['jekyll'] []\n",
            "Query found in the following documents:\n",
            "- pg43.txt\n",
            "Enter the search query (type 'exit' to quit): Wonderland\n",
            "['wonderland'] []\n",
            "Query found in the following documents:\n",
            "- pg5197.txt\n",
            "- pg11.txt\n",
            "- pg29728.txt\n",
            "Enter the search query (type 'exit' to quit): Jekyll and Wonderland\n",
            "['jekyll', 'wonderland'] ['and']\n",
            "Quey not found in any document.\n",
            "Enter the search query (type 'exit' to quit): exit\n"
          ]
        }
      ]
    },
    {
      "cell_type": "markdown",
      "source": [
        "## Evaluation Criteria\n",
        "- **Correctness**: The Boolean search implementation should correctly interpret and process the queries according to the Boolean logic.\n",
        "- **Efficiency**: Consider the efficiency of your search process, especially as the complexity of queries increases.\n",
        "- **User Experience**: Ensure that the interface for inputting queries and viewing results is user-friendly.\n",
        "\n",
        "This exercise will deepen your understanding of how search engines process and respond to user queries.\n"
      ],
      "metadata": {
        "id": "QHAG4QJ3MLhh"
      },
      "id": "QHAG4QJ3MLhh"
    }
  ],
  "metadata": {
    "kernelspec": {
      "display_name": "Python 3",
      "language": "python",
      "name": "python3"
    },
    "language_info": {
      "codemirror_mode": {
        "name": "ipython",
        "version": 2
      },
      "file_extension": ".py",
      "mimetype": "text/x-python",
      "name": "python",
      "nbconvert_exporter": "python",
      "pygments_lexer": "ipython2",
      "version": "2.7.6"
    },
    "colab": {
      "provenance": [],
      "include_colab_link": true
    }
  },
  "nbformat": 4,
  "nbformat_minor": 5
}